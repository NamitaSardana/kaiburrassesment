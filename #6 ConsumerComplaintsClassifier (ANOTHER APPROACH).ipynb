{
 "cells": [
  {
   "cell_type": "markdown",
   "id": "36cc9f11",
   "metadata": {},
   "source": [
    "# Section 1: Importing Packages and Loading Data"
   ]
  },
  {
   "cell_type": "code",
   "execution_count": 2,
   "id": "fcfa8a44",
   "metadata": {},
   "outputs": [
    {
     "name": "stderr",
     "output_type": "stream",
     "text": [
      "<frozen importlib._bootstrap>:228: RuntimeWarning: scipy._lib.messagestream.MessageStream size changed, may indicate binary incompatibility. Expected 56 from C header, got 64 from PyObject\n",
      "[nltk_data] Downloading package stopwords to /Users/ns/nltk_data...\n",
      "[nltk_data]   Package stopwords is already up-to-date!\n"
     ]
    }
   ],
   "source": [
    "import numpy as np\n",
    "import pandas as pd\n",
    "seed = 69 # set random seed for whole document\n",
    "\n",
    "# Graph plotting\n",
    "import matplotlib.pyplot as plt\n",
    "import seaborn as sns\n",
    "\n",
    "# Displaying dataframes\n",
    "from IPython.display import display\n",
    "\n",
    "# Natural Language Processing Thingamajibs\n",
    "import re\n",
    "import string\n",
    "import nltk\n",
    "nltk.download('stopwords')\n",
    "from nltk.corpus import stopwords\n",
    "from gensim.models import Word2Vec, word2vec\n",
    "from sklearn.feature_extraction.text import TfidfVectorizer\n",
    "from sklearn.feature_selection import chi2\n",
    "import gensim\n",
    "\n",
    "# Classifiers\n",
    "from sklearn.naive_bayes import GaussianNB, BernoulliNB, MultinomialNB\n",
    "from sklearn.linear_model import LogisticRegression\n",
    "from sklearn.neighbors import KNeighborsClassifier\n",
    "from sklearn.tree import DecisionTreeClassifier\n",
    "from sklearn.ensemble import RandomForestClassifier\n",
    "from sklearn.svm import LinearSVC, SVC\n",
    "\n",
    "# Metrics to score classifiers\n",
    "from sklearn.metrics import confusion_matrix, classification_report\n",
    "from sklearn.metrics import accuracy_score, precision_score, recall_score, f1_score, auc, roc_curve, log_loss\n",
    "\n",
    "# Data splitting, CV\n",
    "from sklearn.model_selection import train_test_split\n",
    "from sklearn.model_selection import cross_val_score, KFold, StratifiedKFold\n"
   ]
  },
  {
   "cell_type": "code",
   "execution_count": 3,
   "id": "362b44a6",
   "metadata": {},
   "outputs": [],
   "source": [
    "import pickle"
   ]
  },
  {
   "cell_type": "code",
   "execution_count": 4,
   "id": "df16957e",
   "metadata": {},
   "outputs": [
    {
     "name": "stderr",
     "output_type": "stream",
     "text": [
      "/Users/ns/miniforge3/lib/python3.9/site-packages/IPython/core/interactiveshell.py:3398: DtypeWarning: Columns (9) have mixed types.Specify dtype option on import or set low_memory=False.\n",
      "  exec(code_obj, self.user_global_ns, self.user_ns)\n"
     ]
    }
   ],
   "source": [
    "# Load CSV file\n",
    "df = pd.read_csv('complaints.csv')"
   ]
  },
  {
   "cell_type": "markdown",
   "id": "960e5804",
   "metadata": {},
   "source": [
    "# Section 1.1: Data Cleaning"
   ]
  },
  {
   "cell_type": "code",
   "execution_count": 5,
   "id": "b3ffc797",
   "metadata": {},
   "outputs": [],
   "source": [
    "# Column Cleaning First. Columns are super nastily named\n",
    "df.rename(columns={'Date received':'DATE_RECEIVED',\n",
    "                  'Product':'PRODUCT',\n",
    "                  'Sub-product':'SUB_PRODUCT',\n",
    "                  'Issue':'ISSUE',\n",
    "                  'Sub-issue':'SUB_ISSUE',\n",
    "                  'Consumer complaint narrative':'CONSUMER_COMPLAINT_NARRATIVE',\n",
    "                  'Company public response':'COMPANY_PUBLIC_RESPONSE',\n",
    "                   'Company':'COMPANY',\n",
    "                   'State':'STATE',\n",
    "                   'ZIP code':'ZIP_CODE',\n",
    "                   'Tags':'TAGS',\n",
    "                   'Consumer consent provided?':'CONSUMER_CONSENT_PROVIDED',\n",
    "                   'Subbmited via':'SUBMITTED_VIA',\n",
    "                   'Date sent to company':'DATE_SENT_TO_COMPANY',\n",
    "                   'Company response to consumer':'COMPANY_RESPONSE_TO_CONSUMER',\n",
    "                   'Timely response?':'TIMELY_RESPONSE',\n",
    "                   'Consumer disputed?':'CONSUMER_DISPUTED',\n",
    "                   'Complaint ID':'COMPLAINT_ID'\n",
    "                  }, inplace=True)"
   ]
  },
  {
   "cell_type": "markdown",
   "id": "9dfdb5fe",
   "metadata": {},
   "source": [
    "# Section 1.1.1: Dropping all rows that do not have Customer Complaint entries in them"
   ]
  },
  {
   "cell_type": "code",
   "execution_count": 6,
   "id": "2ec642d6",
   "metadata": {},
   "outputs": [],
   "source": [
    "# Since we just want to do text classification with an associated label\n",
    "# We only keep rows that have customer complaints in them"
   ]
  },
  {
   "cell_type": "code",
   "execution_count": 7,
   "id": "2e51ce7f",
   "metadata": {},
   "outputs": [],
   "source": [
    "df.dropna(axis=0, subset=['CONSUMER_COMPLAINT_NARRATIVE'], \n",
    "          inplace=True)"
   ]
  },
  {
   "cell_type": "markdown",
   "id": "044632ba",
   "metadata": {},
   "source": [
    "# Section 1.1.2: Subsetting Dataframe for Text Multi-Classification Problem"
   ]
  },
  {
   "cell_type": "code",
   "execution_count": 8,
   "id": "1c48eadd",
   "metadata": {},
   "outputs": [
    {
     "name": "stderr",
     "output_type": "stream",
     "text": [
      "/Users/ns/miniforge3/lib/python3.9/site-packages/pandas/core/frame.py:5039: SettingWithCopyWarning: \n",
      "A value is trying to be set on a copy of a slice from a DataFrame\n",
      "\n",
      "See the caveats in the documentation: https://pandas.pydata.org/pandas-docs/stable/user_guide/indexing.html#returning-a-view-versus-a-copy\n",
      "  return super().rename(\n"
     ]
    }
   ],
   "source": [
    "# Subsetting dataframe into columns useful for our text multi-classification problem\n",
    "df_product_and_complaint = df[['PRODUCT', 'CONSUMER_COMPLAINT_NARRATIVE']]\n",
    "\n",
    "# Renaming columns to something easier\n",
    "df_product_and_complaint.rename(columns={'CONSUMER_COMPLAINT_NARRATIVE':'CONSUMER_COMPLAINT'},inplace=True) \n",
    "df.rename(columns={'CONSUMER_COMPLAINT_NARRATIVE':'CONSUMER_COMPLAINT'},inplace=True) "
   ]
  },
  {
   "cell_type": "code",
   "execution_count": 9,
   "id": "cab1adbd",
   "metadata": {},
   "outputs": [],
   "source": [
    "# Pickling subsetted dataframe\n",
    "with open('df_product_and_complaint.pickle', 'wb') as to_write:\n",
    "    pickle.dump(df_product_and_complaint, to_write)"
   ]
  },
  {
   "cell_type": "code",
   "execution_count": 10,
   "id": "d91afcd0",
   "metadata": {},
   "outputs": [],
   "source": [
    "# Loading pickled subsetted dataframe\n",
    "with open('df_product_and_complaint.pickle', 'rb') as to_read:\n",
    "    df_product_and_complaint = pickle.load(to_read)"
   ]
  },
  {
   "cell_type": "markdown",
   "id": "20cfbde6",
   "metadata": {},
   "source": [
    "# Section 2: Understanding/Cleaning  Data"
   ]
  },
  {
   "cell_type": "code",
   "execution_count": 11,
   "id": "7c6c4f5f",
   "metadata": {},
   "outputs": [
    {
     "name": "stdout",
     "output_type": "stream",
     "text": [
      "<class 'pandas.core.frame.DataFrame'>\n",
      "Int64Index: 1290749 entries, 112 to 3583113\n",
      "Data columns (total 2 columns):\n",
      " #   Column              Non-Null Count    Dtype \n",
      "---  ------              --------------    ----- \n",
      " 0   PRODUCT             1290749 non-null  object\n",
      " 1   CONSUMER_COMPLAINT  1290749 non-null  object\n",
      "dtypes: object(2)\n",
      "memory usage: 29.5+ MB\n"
     ]
    }
   ],
   "source": [
    "# Checking our dataframe\n",
    "df_product_and_complaint.info()\n",
    "\n",
    "# No null values in each column"
   ]
  },
  {
   "cell_type": "markdown",
   "id": "605b41d8",
   "metadata": {},
   "source": [
    "Reducing the entries to avoid crashes"
   ]
  },
  {
   "cell_type": "code",
   "execution_count": 12,
   "id": "f50ebad2",
   "metadata": {},
   "outputs": [
    {
     "data": {
      "text/html": [
       "<div>\n",
       "<style scoped>\n",
       "    .dataframe tbody tr th:only-of-type {\n",
       "        vertical-align: middle;\n",
       "    }\n",
       "\n",
       "    .dataframe tbody tr th {\n",
       "        vertical-align: top;\n",
       "    }\n",
       "\n",
       "    .dataframe thead th {\n",
       "        text-align: right;\n",
       "    }\n",
       "</style>\n",
       "<table border=\"1\" class=\"dataframe\">\n",
       "  <thead>\n",
       "    <tr style=\"text-align: right;\">\n",
       "      <th></th>\n",
       "      <th>PRODUCT</th>\n",
       "      <th>CONSUMER_COMPLAINT</th>\n",
       "    </tr>\n",
       "  </thead>\n",
       "  <tbody>\n",
       "    <tr>\n",
       "      <th>112</th>\n",
       "      <td>Credit reporting, credit repair services, or o...</td>\n",
       "      <td>IDENTITY THEFT XX/XX/XXXXXXXX XXXX XXXX XXXX X...</td>\n",
       "    </tr>\n",
       "    <tr>\n",
       "      <th>116</th>\n",
       "      <td>Checking or savings account</td>\n",
       "      <td>In XX/XX/2023, I received a letter from Citi, ...</td>\n",
       "    </tr>\n",
       "    <tr>\n",
       "      <th>160</th>\n",
       "      <td>Credit card or prepaid card</td>\n",
       "      <td>My minimum payment for my Fortiva Retail Credi...</td>\n",
       "    </tr>\n",
       "    <tr>\n",
       "      <th>164</th>\n",
       "      <td>Mortgage</td>\n",
       "      <td>Wells Fargo transferred servicing of my loan t...</td>\n",
       "    </tr>\n",
       "    <tr>\n",
       "      <th>178</th>\n",
       "      <td>Credit reporting, credit repair services, or o...</td>\n",
       "      <td>My name is XXXX XXXX, this complaint is not ma...</td>\n",
       "    </tr>\n",
       "  </tbody>\n",
       "</table>\n",
       "</div>"
      ],
      "text/plain": [
       "                                               PRODUCT  \\\n",
       "112  Credit reporting, credit repair services, or o...   \n",
       "116                        Checking or savings account   \n",
       "160                        Credit card or prepaid card   \n",
       "164                                           Mortgage   \n",
       "178  Credit reporting, credit repair services, or o...   \n",
       "\n",
       "                                    CONSUMER_COMPLAINT  \n",
       "112  IDENTITY THEFT XX/XX/XXXXXXXX XXXX XXXX XXXX X...  \n",
       "116  In XX/XX/2023, I received a letter from Citi, ...  \n",
       "160  My minimum payment for my Fortiva Retail Credi...  \n",
       "164  Wells Fargo transferred servicing of my loan t...  \n",
       "178  My name is XXXX XXXX, this complaint is not ma...  "
      ]
     },
     "execution_count": 12,
     "metadata": {},
     "output_type": "execute_result"
    }
   ],
   "source": [
    "df_product_and_complaint.head(5)"
   ]
  },
  {
   "cell_type": "markdown",
   "id": "c5c3250f",
   "metadata": {},
   "source": [
    "# Section 2.1: Exploring Consumer Complaints"
   ]
  },
  {
   "cell_type": "code",
   "execution_count": 13,
   "id": "456e99c0",
   "metadata": {},
   "outputs": [],
   "source": [
    "# # What do a few of the entries in the consumer complaint section look like?\n",
    "\n",
    "# df_credit_card = df_product_and_complaint[df_product_and_complaint['PRODUCT'] == 'Credit card']\n",
    "# df_credit_card.rename(columns={'PRODUCT': 'Credit card'}, inplace=True)\n",
    "\n",
    "#for complaint in df_credit_card.CONSUMER_COMPLAINT[:2]:\n",
    "#    print(complaint)\n",
    "#    print('\\n')"
   ]
  },
  {
   "cell_type": "markdown",
   "id": "7dc03713",
   "metadata": {},
   "source": [
    "# Section 2.2: Exploring Product"
   ]
  },
  {
   "cell_type": "code",
   "execution_count": 14,
   "id": "0a181eb3",
   "metadata": {},
   "outputs": [
    {
     "name": "stdout",
     "output_type": "stream",
     "text": [
      "--------------\n",
      "Categories in PRODUCT column:\n",
      "--------------\n",
      "\n",
      "['Credit reporting, credit repair services, or other personal consumer reports'\n",
      " 'Checking or savings account' 'Credit card or prepaid card' 'Mortgage'\n",
      " 'Debt collection' 'Vehicle loan or lease'\n",
      " 'Payday loan, title loan, or personal loan'\n",
      " 'Money transfer, virtual currency, or money service' 'Student loan'\n",
      " 'Credit reporting' 'Consumer Loan' 'Bank account or service'\n",
      " 'Payday loan' 'Credit card' 'Prepaid card' 'Money transfers'\n",
      " 'Other financial service' 'Virtual currency'] \n",
      "\n",
      "--------------\n",
      "# of unique categories:  18\n",
      "--------------\n"
     ]
    }
   ],
   "source": [
    "# Exploring the number of mutli-class categories we have\n",
    "print('--------------')\n",
    "print('Categories in PRODUCT column:')\n",
    "print('--------------\\n')\n",
    "print(df_product_and_complaint['PRODUCT'].unique(), '\\n')\n",
    "print('--------------')\n",
    "print('# of unique categories: ', df_product_and_complaint['PRODUCT'].nunique())\n",
    "print('--------------')"
   ]
  },
  {
   "cell_type": "markdown",
   "id": "d9075905",
   "metadata": {},
   "source": [
    "Some of the categories are repeated.\n",
    "\n",
    "'Credit card' vs 'Credit card or prepaid card'\n",
    "\n",
    "'Prepaid card' vs 'Credit card or prepaid card'\n",
    "\n",
    "'Credit reporting' vs 'Credit reporting, credit repair services, or other personal consumer reports'\n",
    "\n",
    "'Money transfers' vs 'Money transfer, virtual currency, or money service'\n",
    "\n",
    "'Payday loan' vs 'Payday loan, title loan, or personal loan'\n",
    "\n",
    "'Virtual currency' vs 'Money transfer, virtual currency, or money service' 'Money transfers'\n",
    "\n",
    "There seems to be some sort of overlap between the categories, so combining these togethr"
   ]
  },
  {
   "cell_type": "markdown",
   "id": "64fc58cc",
   "metadata": {},
   "source": [
    "# Section 2.2.1: Data Visualization on Categories in PRODUCT"
   ]
  },
  {
   "cell_type": "code",
   "execution_count": 15,
   "id": "cca32ee0",
   "metadata": {},
   "outputs": [
    {
     "name": "stderr",
     "output_type": "stream",
     "text": [
      "/var/folders/rv/ky3c0tn96k9dns7prp47l12r0000gn/T/ipykernel_13517/2802096184.py:18: MatplotlibDeprecationWarning: savefig() got unexpected keyword argument \"transparency\" which is no longer supported as of 3.3 and will become an error in 3.6\n",
      "  plt.savefig('freq_of_uncombined_class.png', transparency=True)\n"
     ]
    },
    {
     "data": {
      "image/png": "[encoded data removed]",
      "text/plain": [
       "<Figure size 720x576 with 1 Axes>"
      ]
     },
     "metadata": {
      "needs_background": "light"
     },
     "output_type": "display_data"
    }
   ],
   "source": [
    "fig, ax = plt.subplots(figsize=(10,8))\n",
    "\n",
    "ax = sns.countplot(y='PRODUCT', \n",
    "                   data=df_product_and_complaint, \n",
    "                   order=df_product_and_complaint['PRODUCT'].value_counts().index)\n",
    "\n",
    "ax.set_title('NUMBER OF COMPLAINTS IN EACH CATEGORY',size=15)\n",
    "\n",
    "# Setting labels\n",
    "# Dealing with y-labels\n",
    "ax.set_ylabel('COMPLAINT', rotation=0, size=14, labelpad=10)\n",
    "              \n",
    "# Dealing with x-labels\n",
    "ax.set_xlabel('NUMBER OF COMPLAINTS', size=14)\n",
    "\n",
    "sns.despine()\n",
    "            \n",
    "plt.savefig('freq_of_uncombined_class.png', transparency=True)"
   ]
  },
  {
   "cell_type": "code",
   "execution_count": 16,
   "id": "031b21e1",
   "metadata": {},
   "outputs": [
    {
     "name": "stdout",
     "output_type": "stream",
     "text": [
      "Number of rows in Dataframe:  1290749\n"
     ]
    }
   ],
   "source": [
    "print('Number of rows in Dataframe: ', len(df_product_and_complaint))\n",
    "# way too large"
   ]
  },
  {
   "cell_type": "markdown",
   "id": "0f527e8e",
   "metadata": {},
   "source": [
    "# Section 2.2.2: DataFrame Reduction\n",
    "Section 2.2.2.1: Category Dropping"
   ]
  },
  {
   "cell_type": "code",
   "execution_count": 17,
   "id": "b3b3fee2",
   "metadata": {},
   "outputs": [
    {
     "data": {
      "text/plain": [
       "Credit reporting, credit repair services, or other personal consumer reports    639573\n",
       "Debt collection                                                                 205227\n",
       "Mortgage                                                                        103766\n",
       "Credit card or prepaid card                                                      93071\n",
       "Checking or savings account                                                      66204\n",
       "Student loan                                                                     34705\n",
       "Credit reporting                                                                 31587\n",
       "Money transfer, virtual currency, or money service                               30198\n",
       "Vehicle loan or lease                                                            23049\n",
       "Credit card                                                                      18838\n",
       "Payday loan, title loan, or personal loan                                        15184\n",
       "Bank account or service                                                          14885\n",
       "Consumer Loan                                                                     9461\n",
       "Payday loan                                                                       1746\n",
       "Money transfers                                                                   1497\n",
       "Prepaid card                                                                      1450\n",
       "Other financial service                                                            292\n",
       "Virtual currency                                                                    16\n",
       "Name: PRODUCT, dtype: int64"
      ]
     },
     "execution_count": 17,
     "metadata": {},
     "output_type": "execute_result"
    }
   ],
   "source": [
    "# Pre-drop category value_counts\n",
    "df_product_and_complaint.PRODUCT.value_counts()"
   ]
  },
  {
   "cell_type": "code",
   "execution_count": 18,
   "id": "3e2a319d",
   "metadata": {},
   "outputs": [],
   "source": [
    "# Dropping rows with the aggregated columns\n",
    "df_product_and_complaint.drop(\n",
    "    df_product_and_complaint[\n",
    "    df_product_and_complaint.PRODUCT == \n",
    "    'Credit reporting, credit repair services, or other personal consumer reports'].index, \n",
    "    inplace=True) # credit_aggregated\n",
    "\n",
    "df_product_and_complaint.drop(\n",
    "    df_product_and_complaint[\n",
    "    df_product_and_complaint.PRODUCT == \n",
    "    'Credit card or prepaid card'].index, \n",
    "    inplace=True) # cred_or_prepaid\n",
    "\n",
    "df_product_and_complaint.drop(\n",
    "    df_product_and_complaint[\n",
    "    df_product_and_complaint.PRODUCT == \n",
    "    'Money transfer, virtual currency, or money service'].index, \n",
    "    inplace=True) # money_virtual_service\n",
    "\n",
    "df_product_and_complaint.drop(\n",
    "    df_product_and_complaint[\n",
    "    df_product_and_complaint.PRODUCT == \n",
    "    'Payday loan, title loan, or personal loan'].index, \n",
    "    inplace=True) # payday_title_personal_loan"
   ]
  },
  {
   "cell_type": "markdown",
   "id": "fcc0d51a",
   "metadata": {},
   "source": [
    "Visualizing Leftover Categories (after dropping the ones stated above)"
   ]
  },
  {
   "cell_type": "code",
   "execution_count": 19,
   "id": "3873f5fc",
   "metadata": {},
   "outputs": [
    {
     "data": {
      "text/plain": [
       "Text(0.5, 0, 'NUMBER OF COMPLAINTS')"
      ]
     },
     "execution_count": 19,
     "metadata": {},
     "output_type": "execute_result"
    },
    {
     "data": {
      "image/png": "[encoded data removed]",
      "text/plain": [
       "<Figure size 720x576 with 1 Axes>"
      ]
     },
     "metadata": {
      "needs_background": "light"
     },
     "output_type": "display_data"
    }
   ],
   "source": [
    "fig, ax = plt.subplots(figsize=(10,8))\n",
    "\n",
    "ax = sns.countplot(y='PRODUCT', \n",
    "                   data=df_product_and_complaint, \n",
    "                   order=df_product_and_complaint['PRODUCT'].value_counts().index)\n",
    "\n",
    "ax.set_title('NUMBER OF COMPLAINTS IN EACH CATEGORY',size=15)\n",
    "\n",
    "# Setting labels\n",
    "# Dealing with y-labels\n",
    "ax.set_ylabel('COMPLAINT', rotation=0, labelpad=40, size=14)\n",
    "              \n",
    "# Dealing with x-labels\n",
    "ax.set_xlabel('NUMBER OF COMPLAINTS', size=14)"
   ]
  },
  {
   "cell_type": "code",
   "execution_count": 20,
   "id": "835ee19f",
   "metadata": {},
   "outputs": [
    {
     "name": "stdout",
     "output_type": "stream",
     "text": [
      "<class 'pandas.core.frame.DataFrame'>\n",
      "Int64Index: 512723 entries, 116 to 3583113\n",
      "Data columns (total 2 columns):\n",
      " #   Column              Non-Null Count   Dtype \n",
      "---  ------              --------------   ----- \n",
      " 0   PRODUCT             512723 non-null  object\n",
      " 1   CONSUMER_COMPLAINT  512723 non-null  object\n",
      "dtypes: object(2)\n",
      "memory usage: 27.9+ MB\n"
     ]
    }
   ],
   "source": [
    "# Checking Length of df now\n",
    "df_product_and_complaint.info()\n",
    "\n",
    "# It's still quite a sizeable amount that my computer can't take. So we have to drop more.\n",
    "# We want to reduce it to less than 50k entries"
   ]
  },
  {
   "cell_type": "code",
   "execution_count": 21,
   "id": "b22b7b6f",
   "metadata": {},
   "outputs": [
    {
     "data": {
      "text/plain": [
       "Debt collection                205227\n",
       "Mortgage                       103766\n",
       "Checking or savings account     66204\n",
       "Student loan                    34705\n",
       "Credit reporting                31587\n",
       "Vehicle loan or lease           23049\n",
       "Credit card                     18838\n",
       "Bank account or service         14885\n",
       "Consumer Loan                    9461\n",
       "Payday loan                      1746\n",
       "Money transfers                  1497\n",
       "Prepaid card                     1450\n",
       "Other financial service           292\n",
       "Virtual currency                   16\n",
       "Name: PRODUCT, dtype: int64"
      ]
     },
     "execution_count": 21,
     "metadata": {},
     "output_type": "execute_result"
    }
   ],
   "source": [
    "df_product_and_complaint.PRODUCT.value_counts()"
   ]
  },
  {
   "cell_type": "markdown",
   "id": "7619177d",
   "metadata": {},
   "source": [
    "## Section 2.2.2.2: Combining Categories"
   ]
  },
  {
   "cell_type": "code",
   "execution_count": 22,
   "id": "d4d17531",
   "metadata": {},
   "outputs": [],
   "source": [
    "## Combining Loans together to make this a simplier classification problem\n",
    "\n",
    "df_product_and_complaint.replace('Student loan', 'Loan', inplace=True)\n",
    "df_product_and_complaint.replace('Consumer Loan', 'Loan', inplace=True)\n",
    "df_product_and_complaint.replace('Payday loan', 'Loan', inplace=True)\n",
    "df_product_and_complaint.replace('Vehicle loan or lease', 'Loan', inplace=True)\n",
    "\n",
    "# Placing Virtual currency into other financial service\n",
    "df_product_and_complaint.replace('Virtual currency', 'Other financial service', inplace=True)"
   ]
  },
  {
   "cell_type": "markdown",
   "id": "8e7d18cc",
   "metadata": {},
   "source": [
    "## Section 2.2.2.3: Leftover Categories Dataframe Reduction"
   ]
  },
  {
   "cell_type": "code",
   "execution_count": 23,
   "id": "b97ce748",
   "metadata": {},
   "outputs": [
    {
     "data": {
      "text/plain": [
       "Debt collection                205227\n",
       "Mortgage                       103766\n",
       "Loan                            68961\n",
       "Checking or savings account     66204\n",
       "Credit reporting                31587\n",
       "Credit card                     18838\n",
       "Bank account or service         14885\n",
       "Money transfers                  1497\n",
       "Prepaid card                     1450\n",
       "Other financial service           308\n",
       "Name: PRODUCT, dtype: int64"
      ]
     },
     "execution_count": 23,
     "metadata": {},
     "output_type": "execute_result"
    }
   ],
   "source": [
    "df_product_and_complaint.PRODUCT.value_counts()"
   ]
  },
  {
   "cell_type": "code",
   "execution_count": 24,
   "id": "89513afc",
   "metadata": {},
   "outputs": [
    {
     "name": "stdout",
     "output_type": "stream",
     "text": [
      "<class 'pandas.core.frame.DataFrame'>\n",
      "Int64Index: 512723 entries, 116 to 3583113\n",
      "Data columns (total 2 columns):\n",
      " #   Column              Non-Null Count   Dtype \n",
      "---  ------              --------------   ----- \n",
      " 0   PRODUCT             512723 non-null  object\n",
      " 1   CONSUMER_COMPLAINT  512723 non-null  object\n",
      "dtypes: object(2)\n",
      "memory usage: 27.9+ MB\n"
     ]
    }
   ],
   "source": [
    "df_product_and_complaint.info()"
   ]
  },
  {
   "cell_type": "code",
   "execution_count": 25,
   "id": "a98efb33",
   "metadata": {},
   "outputs": [],
   "source": [
    "# Need to reduce all categories by 90%\n",
    "\n",
    "percentage_reduction = 0.9\n",
    "\n",
    "# Debt Collection Reduction\n",
    "df_product_and_complaint_reduced = \\\n",
    "df_product_and_complaint.drop(\n",
    "    df_product_and_complaint[df_product_and_complaint['PRODUCT'] == 'Debt collection'].sample(frac=percentage_reduction).index)\n",
    "\n",
    "# Mortgage Reduction\n",
    "df_product_and_complaint_reduced = \\\n",
    "df_product_and_complaint_reduced.drop(\n",
    "    df_product_and_complaint_reduced[\n",
    "        df_product_and_complaint_reduced['PRODUCT'] == 'Mortgage'].sample(frac=percentage_reduction).index)\n",
    "\n",
    "# Loan\n",
    "df_product_and_complaint_reduced = \\\n",
    "df_product_and_complaint_reduced.drop(\n",
    "    df_product_and_complaint_reduced[\n",
    "        df_product_and_complaint_reduced['PRODUCT'] == 'Loan'].sample(frac=percentage_reduction).index)\n",
    "\n",
    "# Credit reporting\n",
    "df_product_and_complaint_reduced = \\\n",
    "df_product_and_complaint_reduced.drop(\n",
    "    df_product_and_complaint_reduced[\n",
    "        df_product_and_complaint_reduced['PRODUCT'] == 'Credit reporting'].sample(frac=percentage_reduction).index)\n",
    "\n",
    "# Credit card\n",
    "df_product_and_complaint_reduced = \\\n",
    "df_product_and_complaint_reduced.drop(\n",
    "    df_product_and_complaint_reduced[\n",
    "        df_product_and_complaint_reduced['PRODUCT'] == 'Credit card'].sample(frac=percentage_reduction).index)\n",
    "\n",
    "# Checking or savings account\n",
    "df_product_and_complaint_reduced = \\\n",
    "df_product_and_complaint_reduced.drop(\n",
    "    df_product_and_complaint_reduced[\n",
    "        df_product_and_complaint_reduced['PRODUCT'] == 'Checking or savings account'].sample(frac=percentage_reduction).index)\n",
    "\n",
    "# Bank account or service\n",
    "df_product_and_complaint_reduced = \\\n",
    "df_product_and_complaint_reduced.drop(\n",
    "    df_product_and_complaint_reduced[\n",
    "        df_product_and_complaint_reduced['PRODUCT'] == 'Bank account or service'].sample(frac=percentage_reduction).index)\n",
    "\n",
    "# # Money transfers (too little to be reduced)\n",
    "# df_product_and_complaint_reduced = \\\n",
    "# df_product_and_complaint_reduced.drop(\n",
    "#     df_product_and_complaint_reduced[\n",
    "#         df_product_and_complaint_reduced['PRODUCT'] == 'Money transfers'].sample(frac=.9).index)\n",
    "\n",
    "# # Prepaid card (too little to be reduced)\n",
    "# df_product_and_complaint_reduced = \\\n",
    "# df_product_and_complaint_reduced.drop(\n",
    "#     df_product_and_complaint_reduced[\n",
    "#         df_product_and_complaint_reduced['PRODUCT'] == 'Prepaid card'].sample(frac=.9).index)\n",
    "\n",
    "# # Other financial service (too little to be reduced)\n",
    "# df_product_and_complaint_reduced = \\\n",
    "# df_product_and_complaint_reduced.drop(\n",
    "#     df_product_and_complaint_reduced[\n",
    "#         df_product_and_complaint_reduced['PRODUCT'] == 'Other financial service'].sample(frac=.9).index)"
   ]
  },
  {
   "cell_type": "code",
   "execution_count": 26,
   "id": "b35c3a6c",
   "metadata": {},
   "outputs": [
    {
     "data": {
      "text/plain": [
       "Debt collection                20523\n",
       "Mortgage                       10377\n",
       "Loan                            6896\n",
       "Checking or savings account     6620\n",
       "Credit reporting                3159\n",
       "Credit card                     1884\n",
       "Money transfers                 1497\n",
       "Bank account or service         1489\n",
       "Prepaid card                    1450\n",
       "Other financial service          308\n",
       "Name: PRODUCT, dtype: int64"
      ]
     },
     "execution_count": 26,
     "metadata": {},
     "output_type": "execute_result"
    }
   ],
   "source": [
    "df_product_and_complaint_reduced.PRODUCT.value_counts()"
   ]
  },
  {
   "cell_type": "code",
   "execution_count": 27,
   "id": "bea1b738",
   "metadata": {},
   "outputs": [
    {
     "name": "stdout",
     "output_type": "stream",
     "text": [
      "<class 'pandas.core.frame.DataFrame'>\n",
      "Int64Index: 54203 entries, 164 to 3582768\n",
      "Data columns (total 2 columns):\n",
      " #   Column              Non-Null Count  Dtype \n",
      "---  ------              --------------  ----- \n",
      " 0   PRODUCT             54203 non-null  object\n",
      " 1   CONSUMER_COMPLAINT  54203 non-null  object\n",
      "dtypes: object(2)\n",
      "memory usage: 1.2+ MB\n"
     ]
    }
   ],
   "source": [
    "df_product_and_complaint_reduced.info()"
   ]
  },
  {
   "cell_type": "code",
   "execution_count": 28,
   "id": "d0175b00",
   "metadata": {},
   "outputs": [
    {
     "name": "stdout",
     "output_type": "stream",
     "text": [
      "--------------\n",
      "Categories in PRODUCT column:\n",
      "--------------\n",
      "\n",
      "['Mortgage' 'Checking or savings account' 'Loan' 'Debt collection'\n",
      " 'Bank account or service' 'Credit card' 'Credit reporting' 'Prepaid card'\n",
      " 'Money transfers' 'Other financial service'] \n",
      "\n",
      "--------------\n",
      "# of unique categories:  10\n",
      "--------------\n"
     ]
    }
   ],
   "source": [
    "# Exploring the new number of mutli-class categories we have\n",
    "print('--------------')\n",
    "print('Categories in PRODUCT column:')\n",
    "print('--------------\\n')\n",
    "print(df_product_and_complaint_reduced['PRODUCT'].unique(), '\\n')\n",
    "print('--------------')\n",
    "print('# of unique categories: ', df_product_and_complaint_reduced['PRODUCT'].nunique())\n",
    "print('--------------')\n",
    "\n",
    "# Down to 10 classes"
   ]
  },
  {
   "cell_type": "markdown",
   "id": "7143f49e",
   "metadata": {},
   "source": [
    "## Section 2.2.3: Data Visualizing on newly combined classes"
   ]
  },
  {
   "cell_type": "code",
   "execution_count": 29,
   "id": "4a526527",
   "metadata": {},
   "outputs": [
    {
     "name": "stderr",
     "output_type": "stream",
     "text": [
      "/var/folders/rv/ky3c0tn96k9dns7prp47l12r0000gn/T/ipykernel_13517/4005488244.py:19: MatplotlibDeprecationWarning: savefig() got unexpected keyword argument \"transparency\" which is no longer supported as of 3.3 and will become an error in 3.6\n",
      "  plt.savefig('freq_of_removed_classes_and_reduced_observations.png', transparency=True)\n"
     ]
    },
    {
     "data": {
      "image/png": "[encoded data removed]",
      "text/plain": [
       "<Figure size 720x576 with 1 Axes>"
      ]
     },
     "metadata": {
      "needs_background": "light"
     },
     "output_type": "display_data"
    }
   ],
   "source": [
    "fig, ax = plt.subplots(figsize=(10,8))\n",
    "\n",
    "ax = sns.countplot(y='PRODUCT', \n",
    "                   data=df_product_and_complaint_reduced, \n",
    "                   order=df_product_and_complaint_reduced['PRODUCT'].value_counts().index,\n",
    "                   palette='rocket'        # change the color of this graph LATER\n",
    "                  )\n",
    "\n",
    "ax.set_title('NUMBER OF COMPLAINTS IN EACH CATEGORY',size=15)\n",
    "\n",
    "# Setting labels\n",
    "# Dealing with y-labels\n",
    "ax.set_ylabel('COMPLAINT', rotation=0, labelpad=40, size=14)\n",
    "              \n",
    "# Dealing with x-labels\n",
    "ax.set_xlabel('NUMBER OF COMPLAINTS', size=14)\n",
    "\n",
    "sns.despine()\n",
    "plt.savefig('freq_of_removed_classes_and_reduced_observations.png', transparency=True)"
   ]
  },
  {
   "cell_type": "markdown",
   "id": "f0a08f42",
   "metadata": {},
   "source": [
    "See from the graph that there lies a major class imbalance (again)\n",
    "\n",
    "Have to deal with this when using the model for prediction"
   ]
  },
  {
   "cell_type": "markdown",
   "id": "0bede085",
   "metadata": {},
   "source": [
    "## Section 2.2.4: Label Encoding Categories"
   ]
  },
  {
   "cell_type": "code",
   "execution_count": 30,
   "id": "78bbaf52",
   "metadata": {},
   "outputs": [
    {
     "data": {
      "text/html": [
       "<div>\n",
       "<style scoped>\n",
       "    .dataframe tbody tr th:only-of-type {\n",
       "        vertical-align: middle;\n",
       "    }\n",
       "\n",
       "    .dataframe tbody tr th {\n",
       "        vertical-align: top;\n",
       "    }\n",
       "\n",
       "    .dataframe thead th {\n",
       "        text-align: right;\n",
       "    }\n",
       "</style>\n",
       "<table border=\"1\" class=\"dataframe\">\n",
       "  <thead>\n",
       "    <tr style=\"text-align: right;\">\n",
       "      <th></th>\n",
       "      <th>PRODUCT</th>\n",
       "      <th>CONSUMER_COMPLAINT</th>\n",
       "      <th>PRODUCT_ID</th>\n",
       "    </tr>\n",
       "  </thead>\n",
       "  <tbody>\n",
       "    <tr>\n",
       "      <th>164</th>\n",
       "      <td>Mortgage</td>\n",
       "      <td>Wells Fargo transferred servicing of my loan t...</td>\n",
       "      <td>0</td>\n",
       "    </tr>\n",
       "    <tr>\n",
       "      <th>1676</th>\n",
       "      <td>Checking or savings account</td>\n",
       "      <td>On XX/XX/XXXX of XXXX  I went to a US BANK bra...</td>\n",
       "      <td>1</td>\n",
       "    </tr>\n",
       "    <tr>\n",
       "      <th>1993</th>\n",
       "      <td>Mortgage</td>\n",
       "      <td>XX/XX/XXXX XXXX XXXX XXXX XXXX XXXX, XXXX, CO ...</td>\n",
       "      <td>0</td>\n",
       "    </tr>\n",
       "    <tr>\n",
       "      <th>3099</th>\n",
       "      <td>Checking or savings account</td>\n",
       "      <td>XX/XX/23, a deposit of {$170.00} for medicatio...</td>\n",
       "      <td>1</td>\n",
       "    </tr>\n",
       "    <tr>\n",
       "      <th>5651</th>\n",
       "      <td>Checking or savings account</td>\n",
       "      <td>Citibank recently had to change the class of s...</td>\n",
       "      <td>1</td>\n",
       "    </tr>\n",
       "    <tr>\n",
       "      <th>8012</th>\n",
       "      <td>Loan</td>\n",
       "      <td>I am XXXX XXXX behind on my car note but have ...</td>\n",
       "      <td>2</td>\n",
       "    </tr>\n",
       "    <tr>\n",
       "      <th>8077</th>\n",
       "      <td>Checking or savings account</td>\n",
       "      <td>my name is XXXX XXXX this complaint is for cas...</td>\n",
       "      <td>1</td>\n",
       "    </tr>\n",
       "    <tr>\n",
       "      <th>8539</th>\n",
       "      <td>Debt collection</td>\n",
       "      <td>AS OF XX/XX/XXXX I HAVE NOTICED FRAUD ACCOUNT ...</td>\n",
       "      <td>3</td>\n",
       "    </tr>\n",
       "    <tr>\n",
       "      <th>8795</th>\n",
       "      <td>Loan</td>\n",
       "      <td>I purchased a new vehicle on XX/XX/2022, finan...</td>\n",
       "      <td>2</td>\n",
       "    </tr>\n",
       "    <tr>\n",
       "      <th>9022</th>\n",
       "      <td>Checking or savings account</td>\n",
       "      <td>My account is set up to limit communications t...</td>\n",
       "      <td>1</td>\n",
       "    </tr>\n",
       "  </tbody>\n",
       "</table>\n",
       "</div>"
      ],
      "text/plain": [
       "                          PRODUCT  \\\n",
       "164                      Mortgage   \n",
       "1676  Checking or savings account   \n",
       "1993                     Mortgage   \n",
       "3099  Checking or savings account   \n",
       "5651  Checking or savings account   \n",
       "8012                         Loan   \n",
       "8077  Checking or savings account   \n",
       "8539              Debt collection   \n",
       "8795                         Loan   \n",
       "9022  Checking or savings account   \n",
       "\n",
       "                                     CONSUMER_COMPLAINT  PRODUCT_ID  \n",
       "164   Wells Fargo transferred servicing of my loan t...           0  \n",
       "1676  On XX/XX/XXXX of XXXX  I went to a US BANK bra...           1  \n",
       "1993  XX/XX/XXXX XXXX XXXX XXXX XXXX XXXX, XXXX, CO ...           0  \n",
       "3099  XX/XX/23, a deposit of {$170.00} for medicatio...           1  \n",
       "5651  Citibank recently had to change the class of s...           1  \n",
       "8012  I am XXXX XXXX behind on my car note but have ...           2  \n",
       "8077  my name is XXXX XXXX this complaint is for cas...           1  \n",
       "8539  AS OF XX/XX/XXXX I HAVE NOTICED FRAUD ACCOUNT ...           3  \n",
       "8795  I purchased a new vehicle on XX/XX/2022, finan...           2  \n",
       "9022  My account is set up to limit communications t...           1  "
      ]
     },
     "execution_count": 30,
     "metadata": {},
     "output_type": "execute_result"
    }
   ],
   "source": [
    "# Applying encoding to the PRODUCT column\n",
    "df_product_and_complaint_reduced['PRODUCT_ID'] = df_product_and_complaint_reduced['PRODUCT'].factorize()[0] \n",
    "\n",
    "#.factorize[0] arranges the index of each encoded number accordingly to the \n",
    "# index of your categorical variables in the PRODUCT column\n",
    "\n",
    "\n",
    "# Creates a dataframe of the PRODUCT to their respective PRODUCT_ID\n",
    "category_id_df = df_product_and_complaint_reduced[['PRODUCT', 'PRODUCT_ID']].drop_duplicates()\n",
    "\n",
    "\n",
    "# Dictionaries for future use. Creating our cheatsheets for what each encoded label represents.\n",
    "category_to_id = dict(category_id_df.values) # Creates a PRODUCT: PRODUCT_ID key-value pair\n",
    "id_to_category = dict(category_id_df[['PRODUCT_ID', 'PRODUCT']].values)  # Creates a PRODUCT_ID: PRODUCT key-value pair\n",
    "\n",
    "# New dataframe\n",
    "df_product_and_complaint_reduced.head(10)"
   ]
  },
  {
   "cell_type": "code",
   "execution_count": 31,
   "id": "06ed14fb",
   "metadata": {},
   "outputs": [
    {
     "data": {
      "text/plain": [
       "54203"
      ]
     },
     "execution_count": 31,
     "metadata": {},
     "output_type": "execute_result"
    }
   ],
   "source": [
    "# Still the same length as per the original df.\n",
    "len(df_product_and_complaint_reduced)"
   ]
  },
  {
   "cell_type": "markdown",
   "id": "a8c7080a",
   "metadata": {},
   "source": [
    "Time to move on to the next step -- cleaning the fricken text data"
   ]
  },
  {
   "cell_type": "code",
   "execution_count": 32,
   "id": "1be0ec3a",
   "metadata": {},
   "outputs": [],
   "source": [
    "## Pickling reduced dataframe\n",
    "#with open('df_product_and_complaint_reduced.pickle', 'wb') as to_write:\n",
    "#    pickle.dump(df_product_and_complaint_reduced, to_write)"
   ]
  },
  {
   "cell_type": "code",
   "execution_count": 33,
   "id": "a5be72c1",
   "metadata": {},
   "outputs": [],
   "source": [
    "# Loading Pickled DataFrame\n",
    "with open('df_product_and_complaint_reduced.pickle', 'rb') as to_read:\n",
    "    df_product_and_complaint_reduced = pickle.load(to_read)"
   ]
  },
  {
   "cell_type": "code",
   "execution_count": 34,
   "id": "a21518a3",
   "metadata": {},
   "outputs": [
    {
     "name": "stdout",
     "output_type": "stream",
     "text": [
      "<class 'pandas.core.frame.DataFrame'>\n",
      "Int64Index: 54203 entries, 551 to 3583113\n",
      "Data columns (total 3 columns):\n",
      " #   Column              Non-Null Count  Dtype \n",
      "---  ------              --------------  ----- \n",
      " 0   PRODUCT             54203 non-null  object\n",
      " 1   CONSUMER_COMPLAINT  54203 non-null  object\n",
      " 2   PRODUCT_ID          54203 non-null  int64 \n",
      "dtypes: int64(1), object(2)\n",
      "memory usage: 1.7+ MB\n",
      "None\n",
      "--------------------------------------------------------------------------------------\n",
      "              PRODUCT                                                                                                                                                                                                                                                                                                                                                                                                                                                                                                                                                                                                                                                                                                                                                                                                                                                                                                                                                                                                                                                                                                                                                                                                                                                                                                                                                                                                                                                                                                                                                                                                                                                                                                                                                                                                                                                                                                                                                                                                                                                                                                                                                                                                                                                                                                                                                                                                                                                                                                                                                                                                                                                                                                                                                                                                                                                                                                                                                                                                                                                                                                                                                                                                                                                                                                                                                                                                                                                                                                                                                                                                                                                                                                                                                                                                                                                                                                                                                                                                                                                                                                                                                                                                                                                                                                                                                                                                                                                                                         CONSUMER_COMPLAINT  PRODUCT_ID\n",
      "551   Debt collection                                                                                                                                                                                                                                                                                                                                                                                                                                                                                                                                                                                                                                                                                                                                                                                                                                                                                                                                                                                                                                                                                                                                                                                                                                                                                                                                                                                                                                                                                                                                                                                                                                                                                                                                                                                                                                                                                                                                                                                                                                                                                                                                                                                                                                                                                                                                                                                                                                                                                                                                                                                                                                                                                                                                                                                                                                                                                                                                                                                                                                                                                                                                                                                                                                                                                                                                                                                                                                                                                                                                                                                                                                                                                    I noticed a negative report added to my credit bureau by DNF Associates today. I never received calls or mail and nobody validated this Debt. I dont know this company DNF? Nobody attempted to call me for any debt or mail me letters for this debt? How is it that this is reported to the credit report without any communication? No letters, no mail, no calls? There were no calls or mail sent to me by any companies so why would they go ahead and add it. This is a violation of the fair credit act and a violation of my rights. I would like this removed from my credit report since it is a violation of the fair credit act. I did not receive and call or any mail to validate any debt. There were no communications received from either company. Please remove this from my credit bureau at once.           0\n",
      "804   Debt collection                                                                                                                                                                                                                                                                                                                                                                                                                                                                                                                                                                                                                                                                                                                                                                                                                                                                                                                                                                                                                                                                                                                                                                                                                                                                                                                                                                                                                                                                                                                                                                                                                                                                                                                                                                                                                                                                                                                                                                                                                                                                                                                                                                                                                                                                                                                            This is complaint is because Golden1 Credit Union has violated several of my rights and they refuse to correct them and or acknowledge them all together. Under the Fair Debt Collector Practices Act ( FDCPA ) 15 U.S.C 1692 ( G ) Section 809 ( B ) I disputed a claim and requested a validation of debt For Account # XXXX in the amount of {$70000.00}. They have failed to do so properly even with ample time given. Golden1 Credit Union Had an obligation to respond and properly validate the alleged debt or they admit by silence and agree that I do not owe this debt. Golden1 Credit union has also violated my cease-and-desist letter by continuing to collect a debt in which I believe I do not owe and which they agree by not rebutting any statement I sent. Golden1 Credit Union is also reporting to credit reporting agencies that I owe this debt which is hindering me from getting a loan and getting approved for credit from lenders by claiming fraudulently that I owe such debt. Golden1 Credit Union and I entered into contract on or about the XXXX of XX/XX/2022 for a vehicle. Upon me learning of the fraud inside of the contract I sent them a letter of recission under 15 U.S.C 1635 ( a ) notifying them in accordance with the bureau. Also I informed Golden1 Credit Union that under 15 U.S.C 1605 Except as otherwise provided in this section, the amount of the Finance Charge in connection with any consumer transaction shall be determined as the SUM OF ALL CHARGES, payable directly or indirectly by the person whom credit is extended. Ive pointed out to Golden1 Credit Union being the indentured trustee where that was violated in said contract and contacting me for any reason about a debt or attempting to collect a debt according to 15 U.S.C 1692 ( b ) ( 2 ) which states that you may not state that I a consumer owes any Debt. So not only is Golden1 Credit Union not validating a debt in question but they are violating my cease and desist order and reporting to credit reporting agencies about this debt and I have NEVER given them permission to do so. They have an obligation to produce           0\n",
      "1734  Debt collection                                                                                                                                                                                                                                                                                                                                                                                                                                                                                                                                                                                                                                                                                                                                                                                                                                                                                                                                                                                                                                                                                                                                                                                                                                                                                                                                                                                                                                                                                                                                                                                                                                                                                                                                                                                                                                                                                                                                                                                                                                                                                                                                                                                                                                                                                                                                                                                                                                                                                                                                                                                                                                                                                             On XX/XX/XXXX, I purchased furniture from XXXXXXXX XXXX XXXXXXXX online. They charged my Credit Card through XXXXXXXX XXXX  My furniture was delivered. Several strange transactions happened during the week of XX/XX/XXXX, the company would charge my account and then take the charge off. I was very confused about what was happening. However, since I had my furniture and was very busy with work I moved on. \\n\\nIn XXXX of XXXX, I was contacted by XXXXXXXX XXXX XXXXXXXX. They said that during an audit they made a mistake and I was undercharged. I told them that was between them and my XXXX Credit Card Company. I contacted XXXX and was informed that XXXXXXXX XXXX XXXXXXXX had 120 days from the date of purchase to report any errors. I am in good standing with XXXX and the rest of my credit. \\n\\nXXXXXXXX XXXX XXXXXXXX sent their problem to a collections agency, Clear Recovery. Clear Recovery sent me a letter demanding the money. I told them no, that XXXXXXXX XXXX XXXXXXXX is responsible for the error and they use this as a learning tool. Clear Recovery requested a screenshot of my Credit Card transactions from XX/XX/XXXX. I told them no way and that if XXXXXXXX XXXX needs a screenshot of my Credit Card on the transactions that were completed on XX/XX/XXXX, they have an accounting problem. I did offer to give them the XXXX reference numbers of the transactions but neither XXXXXXXX XXXX nor Clear Recovery wanted those. I am sure that since the 120 maximum days to report errors to XXXX have expired that this would not matter. \\n\\nI do not use XXXXXXXX XXXX XXXXXXXX for credit accounts nor will use them to purchase furniture ever again. Please give me relief from XXXXXXXX XXXX  and Clear Recovery so can move on with my life.           0\n",
      "2527  Debt collection                                                                                                                                                                                                                                                                                                                                                                                                                                                                                                                                                                                                                                                                                                                                                                                                                                                                                                                                                                                                                                                                                                                                                                                                                                                                                                                                                                                                                                                                                                                                                                                                                                                                                                                                                                                                                                                                                                                                                                                                                                                                                                                                                                                                                                                                                                                                                                                                                                                                                                                                                                                                                                                                                                                                                                                                                                                                                                                                                                                                                                                                                                                                                                                                                                                                                                                                                                          I sent the collection agency True Accord a cease and Desist letter which included the law ( 15usc 1692c ) on XX/XX/2023. I received communication back that they received the communication on XX/XX/2023. But yet I am still receiving communication from True Accord. I spoke to a representative on today at XX/XX/2023 at XXXX XXXX  who verified they received the communication on XX/XX/2023. Also she updated the system. I also spoke with the original owner of this account XXXX  XXXX  regarding this matter and they supposedly submitted a complaint up stated this action is unacceptable. I spoke to 2 nice representative regarding this unacceptable matter. They texted on XXXX XXXX, XXXX ; XX/XX/XXXX XXXX ; XX/XX/XXXX XXXX XX/XX/XXXX XXXX XXXX ; XX/XX/XXXX XXXX ; XX/XX/XXXX XXXX ; XX/XX/XXXX XXXX ; and XX/XX/XXXX XXXX via text. Also XX/XX/XXXX via email. This is willful non compliance ( 15 usc 1681n ). They are harassing me and I'm stressed out this is causing emotional stress. This is real ridiculous and inconsiderate of this company and I think this needs to be handled accordingly.           0\n",
      "2607         Mortgage  After the first complaint I filed, was told to bad Wells Fargos records of our account show that no XXXX  XXXX payments were made. I have been able to prove they had been made. Not denying it just sorry but its not enough. Ok, Im dealing with and talking about a company that has been sued and fined 20+ times. Now the Cfpb sends all complaints about Wells Fargo to Wells Fargo! Ive been able to prove the XXXX  XXXX payments, sorry but again there records prove different, Oh they say they only go back 7 years. So Wells Fargo can only go back 7 years and XXXX XXXX only to XXXX. This all changed when XXXX XXXX saw the bubble burst coming and began insulating themselves from any lawsuits in the future, by claiming they were never aware and if they were they were not willing and knowingly involved with Wells Fargo and XXXX payments through XXXX XXXX. I have said since I filed the original complaint. I know we made the payments and we were not behind. I have said since the beginning, I took my receipts from XXXX XXXX, and I was told that I would have a number wrong or switched. I have those actual wires and on them you can see, the 4 that wasnt wrong, thats what I was being told repeatedly! It started in XXXX when we first bought the house. Its still continuing to this day. I didnt send all the papers for Wells Fargo to inform me that we had been late or not making payments. When Im fact we were and had made our payments. The blatant strealing started basically as soon as we signed the contract with Wells Fargo. As you can see we made payments from our bank account that shows up months after the actual date of payments. We were making our regular house payment and literally bring bombarded with final notification, the mortgage statement sending payments to XXXX MD, XXXX final notice from North Carolina,! the amount of bills and statements. The XXXX XXXX receipts that started in XXXX showing proof of payments to be told I was off a number. I filed complaints with Wells Fargo as early as XXXX, not knowing that XXXX XXXX and Wells Fargo were just blatantly stealing everything. In XXXX XXXX. I. One month of payments between XXXX XXXX and bank payments! We payed and payed. I have never changed what I have said regarding Wells Fargo and their out right criminal actions and activities for so long. Now with the help of the Cfpb, Wells Fargo, XXXX  XXXX, still are robbing consumers. I have proven time and time that all my statements have been true. We are asking for XXXX XXXX dollars now since its the 3rd time filing a complaint to be told that oh well you dont have any proof. This proves no matter how or when or what payment process we made, Wells Fargo has continued to refuse to compensate us for now the 22 + years, never denying what Im claiming, because what I have claimed has been true. So knowing this and knowing we were and had always been making our house payments, on top of the years and years of double triple billing claiming we never made the payments. So we would have never should have been to a loan modification let alone one that raised the principal and extended the payments for another 30 years. The forced bankruptcy, add the health damage to my wife. Knowing she made everyone of the payments only to be told we were past due. In one month XXXX. In XXXX. The mortgage statements are not even right, XXXX shows we never had a loan modification. I want XXXX XXXX for the fact I have proven with our first 3 complaints. Wells Fargo is still allowed to run a criminal enterprise along with XXXX XXXX and the Cfpb. This is why no consumer can get any type of restitution from years and thousands and thousands of dollars stolen. Stolen by our mortgage company and the payment services they insisted we use due to the easiness they together made for us. Now Im retired with limited funds my wife is now disabled, mainly due to the stress of dealing with Wells Fargo and XXXX XXXX, which in turn caused a genetic disorder to take over again due to and still the stress of all this. When I should just get a call as to were to wire our money. Wells Fargo claims they can only go back 7 years XXXX XXXX can only go to XXXX. Good thing I have XXXX of just illegal and blatant stealing of every payment made, XXXX  XXXX , our bank account, it didnt matter Wells Fargo took them all.           1\n"
     ]
    }
   ],
   "source": [
    "# Reviewing Loaded Dataframe\n",
    "print(df_product_and_complaint_reduced.info())\n",
    "print('--------------------------------------------------------------------------------------')\n",
    "print(df_product_and_complaint_reduced.head().to_string())"
   ]
  },
  {
   "cell_type": "markdown",
   "id": "3c835cf0",
   "metadata": {},
   "source": [
    "## Section 2.2.5: Text Pre-Processing "
   ]
  },
  {
   "cell_type": "code",
   "execution_count": 35,
   "id": "6e192038",
   "metadata": {},
   "outputs": [
    {
     "data": {
      "text/plain": [
       "['After the first complaint I filed, was told to bad Wells Fargos records of our account show that no XXXX  XXXX payments were made. I have been able to prove they had been made. Not denying it just sorry but its not enough. Ok, Im dealing with and talking about a company that has been sued and fined 20+ times. Now the Cfpb sends all complaints about Wells Fargo to Wells Fargo! Ive been able to prove the XXXX  XXXX payments, sorry but again there records prove different, Oh they say they only go back 7 years. So Wells Fargo can only go back 7 years and XXXX XXXX only to XXXX. This all changed when XXXX XXXX saw the bubble burst coming and began insulating themselves from any lawsuits in the future, by claiming they were never aware and if they were they were not willing and knowingly involved with Wells Fargo and XXXX payments through XXXX XXXX. I have said since I filed the original complaint. I know we made the payments and we were not behind. I have said since the beginning, I took my receipts from XXXX XXXX, and I was told that I would have a number wrong or switched. I have those actual wires and on them you can see, the 4 that wasnt wrong, thats what I was being told repeatedly! It started in XXXX when we first bought the house. Its still continuing to this day. I didnt send all the papers for Wells Fargo to inform me that we had been late or not making payments. When Im fact we were and had made our payments. The blatant strealing started basically as soon as we signed the contract with Wells Fargo. As you can see we made payments from our bank account that shows up months after the actual date of payments. We were making our regular house payment and literally bring bombarded with final notification, the mortgage statement sending payments to XXXX MD, XXXX final notice from North Carolina,! the amount of bills and statements. The XXXX XXXX receipts that started in XXXX showing proof of payments to be told I was off a number. I filed complaints with Wells Fargo as early as XXXX, not knowing that XXXX XXXX and Wells Fargo were just blatantly stealing everything. In XXXX XXXX. I. One month of payments between XXXX XXXX and bank payments! We payed and payed. I have never changed what I have said regarding Wells Fargo and their out right criminal actions and activities for so long. Now with the help of the Cfpb, Wells Fargo, XXXX  XXXX, still are robbing consumers. I have proven time and time that all my statements have been true. We are asking for XXXX XXXX dollars now since its the 3rd time filing a complaint to be told that oh well you dont have any proof. This proves no matter how or when or what payment process we made, Wells Fargo has continued to refuse to compensate us for now the 22 + years, never denying what Im claiming, because what I have claimed has been true. So knowing this and knowing we were and had always been making our house payments, on top of the years and years of double triple billing claiming we never made the payments. So we would have never should have been to a loan modification let alone one that raised the principal and extended the payments for another 30 years. The forced bankruptcy, add the health damage to my wife. Knowing she made everyone of the payments only to be told we were past due. In one month XXXX. In XXXX. The mortgage statements are not even right, XXXX shows we never had a loan modification. I want XXXX XXXX for the fact I have proven with our first 3 complaints. Wells Fargo is still allowed to run a criminal enterprise along with XXXX XXXX and the Cfpb. This is why no consumer can get any type of restitution from years and thousands and thousands of dollars stolen. Stolen by our mortgage company and the payment services they insisted we use due to the easiness they together made for us. Now Im retired with limited funds my wife is now disabled, mainly due to the stress of dealing with Wells Fargo and XXXX XXXX, which in turn caused a genetic disorder to take over again due to and still the stress of all this. When I should just get a call as to were to wire our money. Wells Fargo claims they can only go back 7 years XXXX XXXX can only go to XXXX. Good thing I have XXXX of just illegal and blatant stealing of every payment made, XXXX  XXXX , our bank account, it didnt matter Wells Fargo took them all.']"
      ]
     },
     "execution_count": 35,
     "metadata": {},
     "output_type": "execute_result"
    }
   ],
   "source": [
    "# Looking at a sample text\n",
    "sample_complaint = list(df_product_and_complaint_reduced.CONSUMER_COMPLAINT[:5])[4]\n",
    "\n",
    "# Converting to a list for TfidfVectorizer to use\n",
    "list_sample_complaint = []\n",
    "list_sample_complaint.append(sample_complaint)\n",
    "list_sample_complaint"
   ]
  },
  {
   "cell_type": "code",
   "execution_count": 36,
   "id": "a0738af1",
   "metadata": {},
   "outputs": [
    {
     "name": "stdout",
     "output_type": "stream",
     "text": [
      "['20', '22', '30', '3rd', 'able', 'account', 'actions', 'activities', 'actual', 'add', 'allowed', 'asking', 'aware', 'bad', 'bank', 'bankruptcy', 'basically', 'began', 'beginning', 'billing', 'bills', 'blatant', 'blatantly', 'bombarded', 'bought', 'bring', 'bubble', 'burst', 'carolina', 'caused', 'cfpb', 'changed', 'claimed', 'claiming', 'claims', 'coming', 'company', 'compensate', 'complaint', 'complaints', 'consumer', 'consumers', 'continued', 'continuing', 'contract', 'criminal', 'damage', 'date', 'day', 'dealing', 'denying', 'didnt', 'different', 'disabled', 'disorder', 'dollars', 'dont', 'double', 'early', 'easiness', 'enterprise', 'extended', 'fact', 'fargo', 'fargos', 'filed', 'filing', 'final', 'fined', 'forced', 'funds', 'future', 'genetic', 'good', 'health', 'help', 'house', 'illegal', 'im', 'inform', 'insisted', 'insulating', 'involved', 'ive', 'just', 'know', 'knowing', 'knowingly', 'late', 'lawsuits', 'let', 'limited', 'literally', 'loan', 'long', 'mainly', 'making', 'matter', 'md', 'modification', 'money', 'month', 'months', 'mortgage', 'north', 'notice', 'notification', 'number', 'oh', 'ok', 'original', 'papers', 'past', 'payed', 'payment', 'payments', 'principal', 'process', 'proof', 'prove', 'proven', 'proves', 'raised', 'receipts', 'records', 'refuse', 'regarding', 'regular', 'repeatedly', 'restitution', 'retired', 'right', 'robbing', 'run', 'said', 'saw', 'say', 'send', 'sending', 'sends', 'services', 'showing', 'shows', 'signed', 'soon', 'sorry', 'started', 'statement', 'statements', 'stealing', 'stolen', 'strealing', 'stress', 'sued', 'switched', 'talking', 'thats', 'thing', 'thousands', 'time', 'times', 'told', 'took', 'triple', 'true', 'turn', 'type', 'use', 'want', 'wasnt', 'wells', 'wife', 'willing', 'wire', 'wires', 'wrong', 'xxxx', 'years']\n"
     ]
    },
    {
     "name": "stderr",
     "output_type": "stream",
     "text": [
      "/Users/ns/miniforge3/lib/python3.9/site-packages/sklearn/utils/deprecation.py:87: FutureWarning: Function get_feature_names is deprecated; get_feature_names is deprecated in 1.0 and will be removed in 1.2. Please use get_feature_names_out instead.\n",
      "  warnings.warn(msg, category=FutureWarning)\n"
     ]
    }
   ],
   "source": [
    "# Observing what words are extracted from a TfidfVectorizer\n",
    "from sklearn.feature_extraction.text import TfidfVectorizer\n",
    "\n",
    "tf_idf3 = TfidfVectorizer(stop_words='english')\n",
    "check3 = tf_idf3.fit_transform(list_sample_complaint)\n",
    "\n",
    "print(tf_idf3.get_feature_names())"
   ]
  },
  {
   "cell_type": "markdown",
   "id": "b9149ed4",
   "metadata": {},
   "source": [
    "It removes punctuations and also all the stopwords.\n",
    "\n",
    "Spellchecker might also mess up some words, especially with bank names like Citi for example\n",
    "Thus changing the semantic meaning of the word."
   ]
  },
  {
   "cell_type": "markdown",
   "id": "2daf9df6",
   "metadata": {},
   "source": [
    "# Section 3: Model/Classifier Selection"
   ]
  },
  {
   "cell_type": "markdown",
   "id": "1ff16d95",
   "metadata": {},
   "source": [
    "## Section 3.1: Train/StratifiedCV/Test split"
   ]
  },
  {
   "cell_type": "code",
   "execution_count": 37,
   "id": "c2c807bc",
   "metadata": {},
   "outputs": [
    {
     "name": "stdout",
     "output_type": "stream",
     "text": [
      "X shape: (54203,) y shape: (54203,)\n"
     ]
    }
   ],
   "source": [
    "# Split the data into X and y data sets\n",
    "X, y = df_product_and_complaint_reduced.CONSUMER_COMPLAINT, df_product_and_complaint_reduced.PRODUCT_ID\n",
    "print('X shape:', X.shape, 'y shape:', y.shape)"
   ]
  },
  {
   "cell_type": "code",
   "execution_count": 38,
   "id": "f7ef0a96",
   "metadata": {},
   "outputs": [
    {
     "name": "stdout",
     "output_type": "stream",
     "text": [
      "X shape: (54203,) y shape: (54203,)\n",
      "X_train (43362,)\n",
      "y_train (43362,)\n",
      "X_test (10841,)\n",
      "y_test (10841,)\n"
     ]
    }
   ],
   "source": [
    "# Split the data into X and y data sets\n",
    "X, y = df_product_and_complaint_reduced.CONSUMER_COMPLAINT, df_product_and_complaint_reduced.PRODUCT_ID\n",
    "print('X shape:', X.shape, 'y shape:', y.shape)\n",
    "\n",
    "# For text classification, ALWAYS split data first before vectorizing.\n",
    "# This is because you don't want to cheat by having features (words) from the test data already being inside your train data\n",
    "from sklearn.model_selection import train_test_split\n",
    "\n",
    "X_train_val, X_test, y_train_val, y_test = train_test_split(X, y, \n",
    "                                                            test_size=0.2,   # 80% train/cv, 20% test\n",
    "                                                            stratify=y,\n",
    "                                                            random_state=seed)\n",
    "print('X_train', X_train_val.shape)\n",
    "print('y_train', y_train_val.shape)\n",
    "print('X_test', X_test.shape)\n",
    "print('y_test', y_test.shape)"
   ]
  },
  {
   "cell_type": "code",
   "execution_count": 39,
   "id": "1231c00b",
   "metadata": {},
   "outputs": [],
   "source": [
    "# Performing Text Pre-Processing\n",
    "\n",
    "# Import tfidfVectorizer\n",
    "from sklearn.feature_extraction.text import TfidfVectorizer\n",
    "\n",
    "# Text Preprocessing\n",
    "# The text needs to be transformed to vectors so as the algorithms will be able make predictions. \n",
    "# In this case it will be used the Term Frequency – Inverse Document Frequency (TFIDF) weight \n",
    "# to evaluate how important A WORD is to A DOCUMENT in a COLLECTION OF DOCUMENTS.\n",
    "\n",
    "# tfidf1 = 1-gram only. \n",
    "tfidf1 = TfidfVectorizer(sublinear_tf=True, # set to true to scale the term frequency in logarithmic scale.\n",
    "                        min_df=5,\n",
    "                        stop_words='english')\n",
    "\n",
    "X_train_val_tfidf1 = tfidf1.fit_transform(X_train_val).toarray()\n",
    "X_test_tfidf1 = tfidf1.transform(X_test)\n",
    "\n",
    "# tfidf2 = unigram and bigram\n",
    "tfidf2 = TfidfVectorizer(sublinear_tf=True, # set to true to scale the term frequency in logarithmic scale.\n",
    "                        min_df=5, \n",
    "                        ngram_range=(1,2), # we consider unigrams and bigrams\n",
    "                        stop_words='english')\n",
    "X_train_val_tfidf2 = tfidf2.fit_transform(X_train_val).toarray()\n",
    "X_test_tfidf2 = tfidf2.transform(X_test)\n",
    "\n",
    "# # StratifiedKFold -> Split 5\n",
    "# ## Do stratified kfold to preserve the proportion of the category imbalances \n",
    "# # (number is split evenly from all the classes)\n",
    "\n",
    "# kf = StratifiedKFold(n_splits=5, shuffle=True, random_state=seed)"
   ]
  },
  {
   "cell_type": "markdown",
   "id": "33c75104",
   "metadata": {},
   "source": [
    "## Section 3.2: Baseline Model - Train/Stratified CV with MultinomialNB()"
   ]
  },
  {
   "cell_type": "code",
   "execution_count": 40,
   "id": "1fa9991c",
   "metadata": {},
   "outputs": [
    {
     "name": "stdout",
     "output_type": "stream",
     "text": [
      "1-gram number of (rows, features): (43362, 12780)\n"
     ]
    }
   ],
   "source": [
    "print('1-gram number of (rows, features):', X_train_val_tfidf1.shape)"
   ]
  },
  {
   "cell_type": "code",
   "execution_count": 41,
   "id": "e8919916",
   "metadata": {},
   "outputs": [],
   "source": [
    "def metric_cv_stratified(model, X_train_val, y_train_val, n_splits, name):\n",
    "    \"\"\"\n",
    "    Accepts a Model Object, converted X_train_val and y_train_val, n_splits, name\n",
    "    and returns a dataframe with various cross-validated metric scores \n",
    "    over a stratified n_splits kfold for a multi-class classifier.\n",
    "    \"\"\"\n",
    "    # Start timer\n",
    "    import timeit\n",
    "    start = timeit.default_timer()\n",
    "    \n",
    "    ### Computations below\n",
    "    \n",
    "    # StratifiedKFold\n",
    "    ## Do stratified kfold to preserve the proportion of the category imbalances \n",
    "    # (number is split evenly from all the classes)\n",
    "    from sklearn.model_selection import StratifiedKFold  # incase user forgest to import\n",
    "    kf = StratifiedKFold(n_splits=n_splits, shuffle=True, random_state=seed)\n",
    "    \n",
    "    # Initializing Metrics\n",
    "    accuracy = 0.0\n",
    "    micro_f1 = 0.0\n",
    "    macro_precision = 0.0\n",
    "    macro_recall = 0.0\n",
    "    macro_f1 = 0.0\n",
    "    weighted_precision = 0.0\n",
    "    weighted_recall = 0.0\n",
    "    weighted_f1 = 0.0\n",
    "#     roc_auc = 0.0    Not considering this score in this case\n",
    "        \n",
    "    # Storing metrics\n",
    "    from sklearn.model_selection import cross_val_score  # incase user forgets to import\n",
    "    accuracy = np.mean(cross_val_score(model, X_train_val, y_train_val, cv=kf, scoring='accuracy'))\n",
    "#     micro_f1 = np.mean(cross_val_score(model, X_train_val, y_train_val, cv=kf, scoring='f1_micro'))\n",
    "    macro_precision = np.mean(cross_val_score(model, X_train_val, y_train_val, cv=kf, scoring='precision_macro'))\n",
    "    macro_recall = np.mean(cross_val_score(model, X_train_val, y_train_val, cv=kf, scoring='recall_macro'))\n",
    "    macro_f1 = np.mean(cross_val_score(model, X_train_val, y_train_val, cv=kf, scoring='f1_macro'))\n",
    "    weighted_precision = np.mean(cross_val_score(model, X_train_val, y_train_val, cv=kf, scoring='precision_weighted'))\n",
    "    weighted_recall = np.mean(cross_val_score(model, X_train_val, y_train_val, cv=kf, scoring='recall_weighted'))\n",
    "    weighted_f1 = np.mean(cross_val_score(model, X_train_val, y_train_val, cv=kf, scoring='f1_weighted'))\n",
    "    \n",
    "    # Stop timer\n",
    "    stop = timeit.default_timer()\n",
    "    elapsed_time = stop - start\n",
    "    \n",
    "    return pd.DataFrame({'Model'    : [name],\n",
    "                         'Accuracy' : [accuracy],\n",
    "#                          'Micro F1' : [micro_f1],\n",
    "                         'Macro Precision': [macro_precision],\n",
    "                         'Macro Recall'   : [macro_recall],\n",
    "                         'Macro F1score'  : [macro_f1],\n",
    "                         'Weighted Precision': [weighted_precision],\n",
    "                         'Weighted Recall'   : [weighted_recall],\n",
    "                         'Weighted F1'  : [weighted_f1],\n",
    "                         'Time taken': [elapsed_time]  # timetaken: to be used for comparison later\n",
    "                        })"
   ]
  },
  {
   "cell_type": "code",
   "execution_count": 42,
   "id": "65f66435",
   "metadata": {},
   "outputs": [],
   "source": [
    "# # Testing on MultinomialNB first\n",
    "\n",
    "# # Initialize Model Object\n",
    "# mnb = MultinomialNB()\n",
    "\n",
    "# results_cv_stratified_1gram = metric_cv_stratified(mnb, X_train_val_tfidf1, y_train_val, 5, 'MultinomialNB1')\n",
    "# results_cv_stratified_2gram = metric_cv_stratified(mnb, X_train_val_tfidf2, y_train_val, 5, 'MultinomialNB2')"
   ]
  },
  {
   "cell_type": "code",
   "execution_count": 43,
   "id": "397ddc37",
   "metadata": {},
   "outputs": [],
   "source": [
    "# results_cv_stratified_1gram"
   ]
  },
  {
   "cell_type": "code",
   "execution_count": 44,
   "id": "cc83fa5d",
   "metadata": {},
   "outputs": [],
   "source": [
    "# results_cv_stratified_2gram"
   ]
  },
  {
   "cell_type": "markdown",
   "id": "16163184",
   "metadata": {},
   "source": [
    "## Section 3.3: Further Train/Straitified CV with other Models"
   ]
  },
  {
   "cell_type": "markdown",
   "id": "500eea4d",
   "metadata": {},
   "source": [
    "### Section 3.3.1: 1-gram"
   ]
  },
  {
   "cell_type": "code",
   "execution_count": 45,
   "id": "e58e5cf5",
   "metadata": {},
   "outputs": [
    {
     "name": "stderr",
     "output_type": "stream",
     "text": [
      "/Users/ns/miniforge3/lib/python3.9/site-packages/sklearn/metrics/_classification.py:1327: UndefinedMetricWarning: Precision is ill-defined and being set to 0.0 in labels with no predicted samples. Use `zero_division` parameter to control this behavior.\n",
      "  _warn_prf(average, modifier, msg_start, len(result))\n",
      "/Users/ns/miniforge3/lib/python3.9/site-packages/sklearn/metrics/_classification.py:1327: UndefinedMetricWarning: Precision is ill-defined and being set to 0.0 in labels with no predicted samples. Use `zero_division` parameter to control this behavior.\n",
      "  _warn_prf(average, modifier, msg_start, len(result))\n",
      "/Users/ns/miniforge3/lib/python3.9/site-packages/sklearn/metrics/_classification.py:1327: UndefinedMetricWarning: Precision is ill-defined and being set to 0.0 in labels with no predicted samples. Use `zero_division` parameter to control this behavior.\n",
      "  _warn_prf(average, modifier, msg_start, len(result))\n",
      "/Users/ns/miniforge3/lib/python3.9/site-packages/sklearn/metrics/_classification.py:1327: UndefinedMetricWarning: Precision is ill-defined and being set to 0.0 in labels with no predicted samples. Use `zero_division` parameter to control this behavior.\n",
      "  _warn_prf(average, modifier, msg_start, len(result))\n",
      "/Users/ns/miniforge3/lib/python3.9/site-packages/sklearn/metrics/_classification.py:1327: UndefinedMetricWarning: Precision is ill-defined and being set to 0.0 in labels with no predicted samples. Use `zero_division` parameter to control this behavior.\n",
      "  _warn_prf(average, modifier, msg_start, len(result))\n",
      "/Users/ns/miniforge3/lib/python3.9/site-packages/sklearn/metrics/_classification.py:1327: UndefinedMetricWarning: Precision is ill-defined and being set to 0.0 in labels with no predicted samples. Use `zero_division` parameter to control this behavior.\n",
      "  _warn_prf(average, modifier, msg_start, len(result))\n",
      "/Users/ns/miniforge3/lib/python3.9/site-packages/sklearn/metrics/_classification.py:1327: UndefinedMetricWarning: Precision is ill-defined and being set to 0.0 in labels with no predicted samples. Use `zero_division` parameter to control this behavior.\n",
      "  _warn_prf(average, modifier, msg_start, len(result))\n",
      "/Users/ns/miniforge3/lib/python3.9/site-packages/sklearn/metrics/_classification.py:1327: UndefinedMetricWarning: Precision is ill-defined and being set to 0.0 in labels with no predicted samples. Use `zero_division` parameter to control this behavior.\n",
      "  _warn_prf(average, modifier, msg_start, len(result))\n",
      "/Users/ns/miniforge3/lib/python3.9/site-packages/sklearn/metrics/_classification.py:1327: UndefinedMetricWarning: Precision is ill-defined and being set to 0.0 in labels with no predicted samples. Use `zero_division` parameter to control this behavior.\n",
      "  _warn_prf(average, modifier, msg_start, len(result))\n",
      "/Users/ns/miniforge3/lib/python3.9/site-packages/sklearn/metrics/_classification.py:1327: UndefinedMetricWarning: Precision is ill-defined and being set to 0.0 in labels with no predicted samples. Use `zero_division` parameter to control this behavior.\n",
      "  _warn_prf(average, modifier, msg_start, len(result))\n",
      "/Users/ns/miniforge3/lib/python3.9/site-packages/sklearn/metrics/_classification.py:1327: UndefinedMetricWarning: Precision is ill-defined and being set to 0.0 in labels with no predicted samples. Use `zero_division` parameter to control this behavior.\n",
      "  _warn_prf(average, modifier, msg_start, len(result))\n",
      "/Users/ns/miniforge3/lib/python3.9/site-packages/sklearn/metrics/_classification.py:1327: UndefinedMetricWarning: Precision is ill-defined and being set to 0.0 in labels with no predicted samples. Use `zero_division` parameter to control this behavior.\n",
      "  _warn_prf(average, modifier, msg_start, len(result))\n"
     ]
    },
    {
     "ename": "KeyboardInterrupt",
     "evalue": "",
     "output_type": "error",
     "traceback": [
      "\u001b[0;31m---------------------------------------------------------------------------\u001b[0m",
      "\u001b[0;31mKeyboardInterrupt\u001b[0m                         Traceback (most recent call last)",
      "Input \u001b[0;32mIn [45]\u001b[0m, in \u001b[0;36m<cell line: 15>\u001b[0;34m()\u001b[0m\n\u001b[1;32m      8\u001b[0m linearsvc \u001b[38;5;241m=\u001b[39m LinearSVC()\n\u001b[1;32m     10\u001b[0m \u001b[38;5;66;03m## Do NOT want these two. They take FOREVER to train AND predict\u001b[39;00m\n\u001b[1;32m     11\u001b[0m \u001b[38;5;66;03m# knn = KNeighborsClassifier()  \u001b[39;00m\n\u001b[1;32m     12\u001b[0m \u001b[38;5;66;03m# decisiontree = DecisionTreeClassifier(random_state=seed)\u001b[39;00m\n\u001b[1;32m     13\u001b[0m \n\u001b[1;32m     14\u001b[0m \u001b[38;5;66;03m# to concat all models\u001b[39;00m\n\u001b[1;32m     15\u001b[0m results_cv_straitified_1gram \u001b[38;5;241m=\u001b[39m pd\u001b[38;5;241m.\u001b[39mconcat([metric_cv_stratified(mnb, X_train_val_tfidf1, y_train_val, \u001b[38;5;241m5\u001b[39m, \u001b[38;5;124m'\u001b[39m\u001b[38;5;124mMultinomialNB1\u001b[39m\u001b[38;5;124m'\u001b[39m),\n\u001b[1;32m     16\u001b[0m                                            metric_cv_stratified(gnb, X_train_val_tfidf1, y_train_val, \u001b[38;5;241m5\u001b[39m, \u001b[38;5;124m'\u001b[39m\u001b[38;5;124mGaussianNB1\u001b[39m\u001b[38;5;124m'\u001b[39m),\n\u001b[0;32m---> 17\u001b[0m                                            \u001b[43mmetric_cv_stratified\u001b[49m\u001b[43m(\u001b[49m\u001b[43mlogit\u001b[49m\u001b[43m,\u001b[49m\u001b[43m \u001b[49m\u001b[43mX_train_val_tfidf1\u001b[49m\u001b[43m,\u001b[49m\u001b[43m \u001b[49m\u001b[43my_train_val\u001b[49m\u001b[43m,\u001b[49m\u001b[43m \u001b[49m\u001b[38;5;241;43m5\u001b[39;49m\u001b[43m,\u001b[49m\u001b[43m \u001b[49m\u001b[38;5;124;43m'\u001b[39;49m\u001b[38;5;124;43mLogisticRegression1\u001b[39;49m\u001b[38;5;124;43m'\u001b[39;49m\u001b[43m)\u001b[49m,\n\u001b[1;32m     18\u001b[0m                                            metric_cv_stratified(randomforest, X_train_val_tfidf1, y_train_val, \u001b[38;5;241m5\u001b[39m, \u001b[38;5;124m'\u001b[39m\u001b[38;5;124mRandomForest1\u001b[39m\u001b[38;5;124m'\u001b[39m),\n\u001b[1;32m     19\u001b[0m                                            metric_cv_stratified(linearsvc, X_train_val_tfidf1, y_train_val, \u001b[38;5;241m5\u001b[39m, \u001b[38;5;124m'\u001b[39m\u001b[38;5;124mLinearSVC1\u001b[39m\u001b[38;5;124m'\u001b[39m)\n\u001b[1;32m     20\u001b[0m                                           ], axis\u001b[38;5;241m=\u001b[39m\u001b[38;5;241m0\u001b[39m)\u001b[38;5;241m.\u001b[39mreset_index()\n",
      "Input \u001b[0;32mIn [41]\u001b[0m, in \u001b[0;36mmetric_cv_stratified\u001b[0;34m(model, X_train_val, y_train_val, n_splits, name)\u001b[0m\n\u001b[1;32m     36\u001b[0m macro_f1 \u001b[38;5;241m=\u001b[39m np\u001b[38;5;241m.\u001b[39mmean(cross_val_score(model, X_train_val, y_train_val, cv\u001b[38;5;241m=\u001b[39mkf, scoring\u001b[38;5;241m=\u001b[39m\u001b[38;5;124m'\u001b[39m\u001b[38;5;124mf1_macro\u001b[39m\u001b[38;5;124m'\u001b[39m))\n\u001b[1;32m     37\u001b[0m weighted_precision \u001b[38;5;241m=\u001b[39m np\u001b[38;5;241m.\u001b[39mmean(cross_val_score(model, X_train_val, y_train_val, cv\u001b[38;5;241m=\u001b[39mkf, scoring\u001b[38;5;241m=\u001b[39m\u001b[38;5;124m'\u001b[39m\u001b[38;5;124mprecision_weighted\u001b[39m\u001b[38;5;124m'\u001b[39m))\n\u001b[0;32m---> 38\u001b[0m weighted_recall \u001b[38;5;241m=\u001b[39m np\u001b[38;5;241m.\u001b[39mmean(\u001b[43mcross_val_score\u001b[49m\u001b[43m(\u001b[49m\u001b[43mmodel\u001b[49m\u001b[43m,\u001b[49m\u001b[43m \u001b[49m\u001b[43mX_train_val\u001b[49m\u001b[43m,\u001b[49m\u001b[43m \u001b[49m\u001b[43my_train_val\u001b[49m\u001b[43m,\u001b[49m\u001b[43m \u001b[49m\u001b[43mcv\u001b[49m\u001b[38;5;241;43m=\u001b[39;49m\u001b[43mkf\u001b[49m\u001b[43m,\u001b[49m\u001b[43m \u001b[49m\u001b[43mscoring\u001b[49m\u001b[38;5;241;43m=\u001b[39;49m\u001b[38;5;124;43m'\u001b[39;49m\u001b[38;5;124;43mrecall_weighted\u001b[39;49m\u001b[38;5;124;43m'\u001b[39;49m\u001b[43m)\u001b[49m)\n\u001b[1;32m     39\u001b[0m weighted_f1 \u001b[38;5;241m=\u001b[39m np\u001b[38;5;241m.\u001b[39mmean(cross_val_score(model, X_train_val, y_train_val, cv\u001b[38;5;241m=\u001b[39mkf, scoring\u001b[38;5;241m=\u001b[39m\u001b[38;5;124m'\u001b[39m\u001b[38;5;124mf1_weighted\u001b[39m\u001b[38;5;124m'\u001b[39m))\n\u001b[1;32m     41\u001b[0m \u001b[38;5;66;03m# Stop timer\u001b[39;00m\n",
      "File \u001b[0;32m~/miniforge3/lib/python3.9/site-packages/sklearn/model_selection/_validation.py:515\u001b[0m, in \u001b[0;36mcross_val_score\u001b[0;34m(estimator, X, y, groups, scoring, cv, n_jobs, verbose, fit_params, pre_dispatch, error_score)\u001b[0m\n\u001b[1;32m    512\u001b[0m \u001b[38;5;66;03m# To ensure multimetric format is not supported\u001b[39;00m\n\u001b[1;32m    513\u001b[0m scorer \u001b[38;5;241m=\u001b[39m check_scoring(estimator, scoring\u001b[38;5;241m=\u001b[39mscoring)\n\u001b[0;32m--> 515\u001b[0m cv_results \u001b[38;5;241m=\u001b[39m \u001b[43mcross_validate\u001b[49m\u001b[43m(\u001b[49m\n\u001b[1;32m    516\u001b[0m \u001b[43m    \u001b[49m\u001b[43mestimator\u001b[49m\u001b[38;5;241;43m=\u001b[39;49m\u001b[43mestimator\u001b[49m\u001b[43m,\u001b[49m\n\u001b[1;32m    517\u001b[0m \u001b[43m    \u001b[49m\u001b[43mX\u001b[49m\u001b[38;5;241;43m=\u001b[39;49m\u001b[43mX\u001b[49m\u001b[43m,\u001b[49m\n\u001b[1;32m    518\u001b[0m \u001b[43m    \u001b[49m\u001b[43my\u001b[49m\u001b[38;5;241;43m=\u001b[39;49m\u001b[43my\u001b[49m\u001b[43m,\u001b[49m\n\u001b[1;32m    519\u001b[0m \u001b[43m    \u001b[49m\u001b[43mgroups\u001b[49m\u001b[38;5;241;43m=\u001b[39;49m\u001b[43mgroups\u001b[49m\u001b[43m,\u001b[49m\n\u001b[1;32m    520\u001b[0m \u001b[43m    \u001b[49m\u001b[43mscoring\u001b[49m\u001b[38;5;241;43m=\u001b[39;49m\u001b[43m{\u001b[49m\u001b[38;5;124;43m\"\u001b[39;49m\u001b[38;5;124;43mscore\u001b[39;49m\u001b[38;5;124;43m\"\u001b[39;49m\u001b[43m:\u001b[49m\u001b[43m \u001b[49m\u001b[43mscorer\u001b[49m\u001b[43m}\u001b[49m\u001b[43m,\u001b[49m\n\u001b[1;32m    521\u001b[0m \u001b[43m    \u001b[49m\u001b[43mcv\u001b[49m\u001b[38;5;241;43m=\u001b[39;49m\u001b[43mcv\u001b[49m\u001b[43m,\u001b[49m\n\u001b[1;32m    522\u001b[0m \u001b[43m    \u001b[49m\u001b[43mn_jobs\u001b[49m\u001b[38;5;241;43m=\u001b[39;49m\u001b[43mn_jobs\u001b[49m\u001b[43m,\u001b[49m\n\u001b[1;32m    523\u001b[0m \u001b[43m    \u001b[49m\u001b[43mverbose\u001b[49m\u001b[38;5;241;43m=\u001b[39;49m\u001b[43mverbose\u001b[49m\u001b[43m,\u001b[49m\n\u001b[1;32m    524\u001b[0m \u001b[43m    \u001b[49m\u001b[43mfit_params\u001b[49m\u001b[38;5;241;43m=\u001b[39;49m\u001b[43mfit_params\u001b[49m\u001b[43m,\u001b[49m\n\u001b[1;32m    525\u001b[0m \u001b[43m    \u001b[49m\u001b[43mpre_dispatch\u001b[49m\u001b[38;5;241;43m=\u001b[39;49m\u001b[43mpre_dispatch\u001b[49m\u001b[43m,\u001b[49m\n\u001b[1;32m    526\u001b[0m \u001b[43m    \u001b[49m\u001b[43merror_score\u001b[49m\u001b[38;5;241;43m=\u001b[39;49m\u001b[43merror_score\u001b[49m\u001b[43m,\u001b[49m\n\u001b[1;32m    527\u001b[0m \u001b[43m\u001b[49m\u001b[43m)\u001b[49m\n\u001b[1;32m    528\u001b[0m \u001b[38;5;28;01mreturn\u001b[39;00m cv_results[\u001b[38;5;124m\"\u001b[39m\u001b[38;5;124mtest_score\u001b[39m\u001b[38;5;124m\"\u001b[39m]\n",
      "File \u001b[0;32m~/miniforge3/lib/python3.9/site-packages/sklearn/model_selection/_validation.py:266\u001b[0m, in \u001b[0;36mcross_validate\u001b[0;34m(estimator, X, y, groups, scoring, cv, n_jobs, verbose, fit_params, pre_dispatch, return_train_score, return_estimator, error_score)\u001b[0m\n\u001b[1;32m    263\u001b[0m \u001b[38;5;66;03m# We clone the estimator to make sure that all the folds are\u001b[39;00m\n\u001b[1;32m    264\u001b[0m \u001b[38;5;66;03m# independent, and that it is pickle-able.\u001b[39;00m\n\u001b[1;32m    265\u001b[0m parallel \u001b[38;5;241m=\u001b[39m Parallel(n_jobs\u001b[38;5;241m=\u001b[39mn_jobs, verbose\u001b[38;5;241m=\u001b[39mverbose, pre_dispatch\u001b[38;5;241m=\u001b[39mpre_dispatch)\n\u001b[0;32m--> 266\u001b[0m results \u001b[38;5;241m=\u001b[39m \u001b[43mparallel\u001b[49m\u001b[43m(\u001b[49m\n\u001b[1;32m    267\u001b[0m \u001b[43m    \u001b[49m\u001b[43mdelayed\u001b[49m\u001b[43m(\u001b[49m\u001b[43m_fit_and_score\u001b[49m\u001b[43m)\u001b[49m\u001b[43m(\u001b[49m\n\u001b[1;32m    268\u001b[0m \u001b[43m        \u001b[49m\u001b[43mclone\u001b[49m\u001b[43m(\u001b[49m\u001b[43mestimator\u001b[49m\u001b[43m)\u001b[49m\u001b[43m,\u001b[49m\n\u001b[1;32m    269\u001b[0m \u001b[43m        \u001b[49m\u001b[43mX\u001b[49m\u001b[43m,\u001b[49m\n\u001b[1;32m    270\u001b[0m \u001b[43m        \u001b[49m\u001b[43my\u001b[49m\u001b[43m,\u001b[49m\n\u001b[1;32m    271\u001b[0m \u001b[43m        \u001b[49m\u001b[43mscorers\u001b[49m\u001b[43m,\u001b[49m\n\u001b[1;32m    272\u001b[0m \u001b[43m        \u001b[49m\u001b[43mtrain\u001b[49m\u001b[43m,\u001b[49m\n\u001b[1;32m    273\u001b[0m \u001b[43m        \u001b[49m\u001b[43mtest\u001b[49m\u001b[43m,\u001b[49m\n\u001b[1;32m    274\u001b[0m \u001b[43m        \u001b[49m\u001b[43mverbose\u001b[49m\u001b[43m,\u001b[49m\n\u001b[1;32m    275\u001b[0m \u001b[43m        \u001b[49m\u001b[38;5;28;43;01mNone\u001b[39;49;00m\u001b[43m,\u001b[49m\n\u001b[1;32m    276\u001b[0m \u001b[43m        \u001b[49m\u001b[43mfit_params\u001b[49m\u001b[43m,\u001b[49m\n\u001b[1;32m    277\u001b[0m \u001b[43m        \u001b[49m\u001b[43mreturn_train_score\u001b[49m\u001b[38;5;241;43m=\u001b[39;49m\u001b[43mreturn_train_score\u001b[49m\u001b[43m,\u001b[49m\n\u001b[1;32m    278\u001b[0m \u001b[43m        \u001b[49m\u001b[43mreturn_times\u001b[49m\u001b[38;5;241;43m=\u001b[39;49m\u001b[38;5;28;43;01mTrue\u001b[39;49;00m\u001b[43m,\u001b[49m\n\u001b[1;32m    279\u001b[0m \u001b[43m        \u001b[49m\u001b[43mreturn_estimator\u001b[49m\u001b[38;5;241;43m=\u001b[39;49m\u001b[43mreturn_estimator\u001b[49m\u001b[43m,\u001b[49m\n\u001b[1;32m    280\u001b[0m \u001b[43m        \u001b[49m\u001b[43merror_score\u001b[49m\u001b[38;5;241;43m=\u001b[39;49m\u001b[43merror_score\u001b[49m\u001b[43m,\u001b[49m\n\u001b[1;32m    281\u001b[0m \u001b[43m    \u001b[49m\u001b[43m)\u001b[49m\n\u001b[1;32m    282\u001b[0m \u001b[43m    \u001b[49m\u001b[38;5;28;43;01mfor\u001b[39;49;00m\u001b[43m \u001b[49m\u001b[43mtrain\u001b[49m\u001b[43m,\u001b[49m\u001b[43m \u001b[49m\u001b[43mtest\u001b[49m\u001b[43m \u001b[49m\u001b[38;5;129;43;01min\u001b[39;49;00m\u001b[43m \u001b[49m\u001b[43mcv\u001b[49m\u001b[38;5;241;43m.\u001b[39;49m\u001b[43msplit\u001b[49m\u001b[43m(\u001b[49m\u001b[43mX\u001b[49m\u001b[43m,\u001b[49m\u001b[43m \u001b[49m\u001b[43my\u001b[49m\u001b[43m,\u001b[49m\u001b[43m \u001b[49m\u001b[43mgroups\u001b[49m\u001b[43m)\u001b[49m\n\u001b[1;32m    283\u001b[0m \u001b[43m\u001b[49m\u001b[43m)\u001b[49m\n\u001b[1;32m    285\u001b[0m _warn_or_raise_about_fit_failures(results, error_score)\n\u001b[1;32m    287\u001b[0m \u001b[38;5;66;03m# For callabe scoring, the return type is only know after calling. If the\u001b[39;00m\n\u001b[1;32m    288\u001b[0m \u001b[38;5;66;03m# return type is a dictionary, the error scores can now be inserted with\u001b[39;00m\n\u001b[1;32m    289\u001b[0m \u001b[38;5;66;03m# the correct key.\u001b[39;00m\n",
      "File \u001b[0;32m~/miniforge3/lib/python3.9/site-packages/joblib/parallel.py:1046\u001b[0m, in \u001b[0;36mParallel.__call__\u001b[0;34m(self, iterable)\u001b[0m\n\u001b[1;32m   1043\u001b[0m \u001b[38;5;28;01mif\u001b[39;00m \u001b[38;5;28mself\u001b[39m\u001b[38;5;241m.\u001b[39mdispatch_one_batch(iterator):\n\u001b[1;32m   1044\u001b[0m     \u001b[38;5;28mself\u001b[39m\u001b[38;5;241m.\u001b[39m_iterating \u001b[38;5;241m=\u001b[39m \u001b[38;5;28mself\u001b[39m\u001b[38;5;241m.\u001b[39m_original_iterator \u001b[38;5;129;01mis\u001b[39;00m \u001b[38;5;129;01mnot\u001b[39;00m \u001b[38;5;28;01mNone\u001b[39;00m\n\u001b[0;32m-> 1046\u001b[0m \u001b[38;5;28;01mwhile\u001b[39;00m \u001b[38;5;28;43mself\u001b[39;49m\u001b[38;5;241;43m.\u001b[39;49m\u001b[43mdispatch_one_batch\u001b[49m\u001b[43m(\u001b[49m\u001b[43miterator\u001b[49m\u001b[43m)\u001b[49m:\n\u001b[1;32m   1047\u001b[0m     \u001b[38;5;28;01mpass\u001b[39;00m\n\u001b[1;32m   1049\u001b[0m \u001b[38;5;28;01mif\u001b[39;00m pre_dispatch \u001b[38;5;241m==\u001b[39m \u001b[38;5;124m\"\u001b[39m\u001b[38;5;124mall\u001b[39m\u001b[38;5;124m\"\u001b[39m \u001b[38;5;129;01mor\u001b[39;00m n_jobs \u001b[38;5;241m==\u001b[39m \u001b[38;5;241m1\u001b[39m:\n\u001b[1;32m   1050\u001b[0m     \u001b[38;5;66;03m# The iterable was consumed all at once by the above for loop.\u001b[39;00m\n\u001b[1;32m   1051\u001b[0m     \u001b[38;5;66;03m# No need to wait for async callbacks to trigger to\u001b[39;00m\n\u001b[1;32m   1052\u001b[0m     \u001b[38;5;66;03m# consumption.\u001b[39;00m\n",
      "File \u001b[0;32m~/miniforge3/lib/python3.9/site-packages/joblib/parallel.py:861\u001b[0m, in \u001b[0;36mParallel.dispatch_one_batch\u001b[0;34m(self, iterator)\u001b[0m\n\u001b[1;32m    859\u001b[0m     \u001b[38;5;28;01mreturn\u001b[39;00m \u001b[38;5;28;01mFalse\u001b[39;00m\n\u001b[1;32m    860\u001b[0m \u001b[38;5;28;01melse\u001b[39;00m:\n\u001b[0;32m--> 861\u001b[0m     \u001b[38;5;28;43mself\u001b[39;49m\u001b[38;5;241;43m.\u001b[39;49m\u001b[43m_dispatch\u001b[49m\u001b[43m(\u001b[49m\u001b[43mtasks\u001b[49m\u001b[43m)\u001b[49m\n\u001b[1;32m    862\u001b[0m     \u001b[38;5;28;01mreturn\u001b[39;00m \u001b[38;5;28;01mTrue\u001b[39;00m\n",
      "File \u001b[0;32m~/miniforge3/lib/python3.9/site-packages/joblib/parallel.py:779\u001b[0m, in \u001b[0;36mParallel._dispatch\u001b[0;34m(self, batch)\u001b[0m\n\u001b[1;32m    777\u001b[0m \u001b[38;5;28;01mwith\u001b[39;00m \u001b[38;5;28mself\u001b[39m\u001b[38;5;241m.\u001b[39m_lock:\n\u001b[1;32m    778\u001b[0m     job_idx \u001b[38;5;241m=\u001b[39m \u001b[38;5;28mlen\u001b[39m(\u001b[38;5;28mself\u001b[39m\u001b[38;5;241m.\u001b[39m_jobs)\n\u001b[0;32m--> 779\u001b[0m     job \u001b[38;5;241m=\u001b[39m \u001b[38;5;28;43mself\u001b[39;49m\u001b[38;5;241;43m.\u001b[39;49m\u001b[43m_backend\u001b[49m\u001b[38;5;241;43m.\u001b[39;49m\u001b[43mapply_async\u001b[49m\u001b[43m(\u001b[49m\u001b[43mbatch\u001b[49m\u001b[43m,\u001b[49m\u001b[43m \u001b[49m\u001b[43mcallback\u001b[49m\u001b[38;5;241;43m=\u001b[39;49m\u001b[43mcb\u001b[49m\u001b[43m)\u001b[49m\n\u001b[1;32m    780\u001b[0m     \u001b[38;5;66;03m# A job can complete so quickly than its callback is\u001b[39;00m\n\u001b[1;32m    781\u001b[0m     \u001b[38;5;66;03m# called before we get here, causing self._jobs to\u001b[39;00m\n\u001b[1;32m    782\u001b[0m     \u001b[38;5;66;03m# grow. To ensure correct results ordering, .insert is\u001b[39;00m\n\u001b[1;32m    783\u001b[0m     \u001b[38;5;66;03m# used (rather than .append) in the following line\u001b[39;00m\n\u001b[1;32m    784\u001b[0m     \u001b[38;5;28mself\u001b[39m\u001b[38;5;241m.\u001b[39m_jobs\u001b[38;5;241m.\u001b[39minsert(job_idx, job)\n",
      "File \u001b[0;32m~/miniforge3/lib/python3.9/site-packages/joblib/_parallel_backends.py:208\u001b[0m, in \u001b[0;36mSequentialBackend.apply_async\u001b[0;34m(self, func, callback)\u001b[0m\n\u001b[1;32m    206\u001b[0m \u001b[38;5;28;01mdef\u001b[39;00m \u001b[38;5;21mapply_async\u001b[39m(\u001b[38;5;28mself\u001b[39m, func, callback\u001b[38;5;241m=\u001b[39m\u001b[38;5;28;01mNone\u001b[39;00m):\n\u001b[1;32m    207\u001b[0m     \u001b[38;5;124;03m\"\"\"Schedule a func to be run\"\"\"\u001b[39;00m\n\u001b[0;32m--> 208\u001b[0m     result \u001b[38;5;241m=\u001b[39m \u001b[43mImmediateResult\u001b[49m\u001b[43m(\u001b[49m\u001b[43mfunc\u001b[49m\u001b[43m)\u001b[49m\n\u001b[1;32m    209\u001b[0m     \u001b[38;5;28;01mif\u001b[39;00m callback:\n\u001b[1;32m    210\u001b[0m         callback(result)\n",
      "File \u001b[0;32m~/miniforge3/lib/python3.9/site-packages/joblib/_parallel_backends.py:572\u001b[0m, in \u001b[0;36mImmediateResult.__init__\u001b[0;34m(self, batch)\u001b[0m\n\u001b[1;32m    569\u001b[0m \u001b[38;5;28;01mdef\u001b[39;00m \u001b[38;5;21m__init__\u001b[39m(\u001b[38;5;28mself\u001b[39m, batch):\n\u001b[1;32m    570\u001b[0m     \u001b[38;5;66;03m# Don't delay the application, to avoid keeping the input\u001b[39;00m\n\u001b[1;32m    571\u001b[0m     \u001b[38;5;66;03m# arguments in memory\u001b[39;00m\n\u001b[0;32m--> 572\u001b[0m     \u001b[38;5;28mself\u001b[39m\u001b[38;5;241m.\u001b[39mresults \u001b[38;5;241m=\u001b[39m \u001b[43mbatch\u001b[49m\u001b[43m(\u001b[49m\u001b[43m)\u001b[49m\n",
      "File \u001b[0;32m~/miniforge3/lib/python3.9/site-packages/joblib/parallel.py:262\u001b[0m, in \u001b[0;36mBatchedCalls.__call__\u001b[0;34m(self)\u001b[0m\n\u001b[1;32m    258\u001b[0m \u001b[38;5;28;01mdef\u001b[39;00m \u001b[38;5;21m__call__\u001b[39m(\u001b[38;5;28mself\u001b[39m):\n\u001b[1;32m    259\u001b[0m     \u001b[38;5;66;03m# Set the default nested backend to self._backend but do not set the\u001b[39;00m\n\u001b[1;32m    260\u001b[0m     \u001b[38;5;66;03m# change the default number of processes to -1\u001b[39;00m\n\u001b[1;32m    261\u001b[0m     \u001b[38;5;28;01mwith\u001b[39;00m parallel_backend(\u001b[38;5;28mself\u001b[39m\u001b[38;5;241m.\u001b[39m_backend, n_jobs\u001b[38;5;241m=\u001b[39m\u001b[38;5;28mself\u001b[39m\u001b[38;5;241m.\u001b[39m_n_jobs):\n\u001b[0;32m--> 262\u001b[0m         \u001b[38;5;28;01mreturn\u001b[39;00m [func(\u001b[38;5;241m*\u001b[39margs, \u001b[38;5;241m*\u001b[39m\u001b[38;5;241m*\u001b[39mkwargs)\n\u001b[1;32m    263\u001b[0m                 \u001b[38;5;28;01mfor\u001b[39;00m func, args, kwargs \u001b[38;5;129;01min\u001b[39;00m \u001b[38;5;28mself\u001b[39m\u001b[38;5;241m.\u001b[39mitems]\n",
      "File \u001b[0;32m~/miniforge3/lib/python3.9/site-packages/joblib/parallel.py:262\u001b[0m, in \u001b[0;36m<listcomp>\u001b[0;34m(.0)\u001b[0m\n\u001b[1;32m    258\u001b[0m \u001b[38;5;28;01mdef\u001b[39;00m \u001b[38;5;21m__call__\u001b[39m(\u001b[38;5;28mself\u001b[39m):\n\u001b[1;32m    259\u001b[0m     \u001b[38;5;66;03m# Set the default nested backend to self._backend but do not set the\u001b[39;00m\n\u001b[1;32m    260\u001b[0m     \u001b[38;5;66;03m# change the default number of processes to -1\u001b[39;00m\n\u001b[1;32m    261\u001b[0m     \u001b[38;5;28;01mwith\u001b[39;00m parallel_backend(\u001b[38;5;28mself\u001b[39m\u001b[38;5;241m.\u001b[39m_backend, n_jobs\u001b[38;5;241m=\u001b[39m\u001b[38;5;28mself\u001b[39m\u001b[38;5;241m.\u001b[39m_n_jobs):\n\u001b[0;32m--> 262\u001b[0m         \u001b[38;5;28;01mreturn\u001b[39;00m [\u001b[43mfunc\u001b[49m\u001b[43m(\u001b[49m\u001b[38;5;241;43m*\u001b[39;49m\u001b[43margs\u001b[49m\u001b[43m,\u001b[49m\u001b[43m \u001b[49m\u001b[38;5;241;43m*\u001b[39;49m\u001b[38;5;241;43m*\u001b[39;49m\u001b[43mkwargs\u001b[49m\u001b[43m)\u001b[49m\n\u001b[1;32m    263\u001b[0m                 \u001b[38;5;28;01mfor\u001b[39;00m func, args, kwargs \u001b[38;5;129;01min\u001b[39;00m \u001b[38;5;28mself\u001b[39m\u001b[38;5;241m.\u001b[39mitems]\n",
      "File \u001b[0;32m~/miniforge3/lib/python3.9/site-packages/sklearn/utils/fixes.py:117\u001b[0m, in \u001b[0;36m_FuncWrapper.__call__\u001b[0;34m(self, *args, **kwargs)\u001b[0m\n\u001b[1;32m    115\u001b[0m \u001b[38;5;28;01mdef\u001b[39;00m \u001b[38;5;21m__call__\u001b[39m(\u001b[38;5;28mself\u001b[39m, \u001b[38;5;241m*\u001b[39margs, \u001b[38;5;241m*\u001b[39m\u001b[38;5;241m*\u001b[39mkwargs):\n\u001b[1;32m    116\u001b[0m     \u001b[38;5;28;01mwith\u001b[39;00m config_context(\u001b[38;5;241m*\u001b[39m\u001b[38;5;241m*\u001b[39m\u001b[38;5;28mself\u001b[39m\u001b[38;5;241m.\u001b[39mconfig):\n\u001b[0;32m--> 117\u001b[0m         \u001b[38;5;28;01mreturn\u001b[39;00m \u001b[38;5;28;43mself\u001b[39;49m\u001b[38;5;241;43m.\u001b[39;49m\u001b[43mfunction\u001b[49m\u001b[43m(\u001b[49m\u001b[38;5;241;43m*\u001b[39;49m\u001b[43margs\u001b[49m\u001b[43m,\u001b[49m\u001b[43m \u001b[49m\u001b[38;5;241;43m*\u001b[39;49m\u001b[38;5;241;43m*\u001b[39;49m\u001b[43mkwargs\u001b[49m\u001b[43m)\u001b[49m\n",
      "File \u001b[0;32m~/miniforge3/lib/python3.9/site-packages/sklearn/model_selection/_validation.py:686\u001b[0m, in \u001b[0;36m_fit_and_score\u001b[0;34m(estimator, X, y, scorer, train, test, verbose, parameters, fit_params, return_train_score, return_parameters, return_n_test_samples, return_times, return_estimator, split_progress, candidate_progress, error_score)\u001b[0m\n\u001b[1;32m    684\u001b[0m         estimator\u001b[38;5;241m.\u001b[39mfit(X_train, \u001b[38;5;241m*\u001b[39m\u001b[38;5;241m*\u001b[39mfit_params)\n\u001b[1;32m    685\u001b[0m     \u001b[38;5;28;01melse\u001b[39;00m:\n\u001b[0;32m--> 686\u001b[0m         \u001b[43mestimator\u001b[49m\u001b[38;5;241;43m.\u001b[39;49m\u001b[43mfit\u001b[49m\u001b[43m(\u001b[49m\u001b[43mX_train\u001b[49m\u001b[43m,\u001b[49m\u001b[43m \u001b[49m\u001b[43my_train\u001b[49m\u001b[43m,\u001b[49m\u001b[43m \u001b[49m\u001b[38;5;241;43m*\u001b[39;49m\u001b[38;5;241;43m*\u001b[39;49m\u001b[43mfit_params\u001b[49m\u001b[43m)\u001b[49m\n\u001b[1;32m    688\u001b[0m \u001b[38;5;28;01mexcept\u001b[39;00m \u001b[38;5;167;01mException\u001b[39;00m:\n\u001b[1;32m    689\u001b[0m     \u001b[38;5;66;03m# Note fit time as time until error\u001b[39;00m\n\u001b[1;32m    690\u001b[0m     fit_time \u001b[38;5;241m=\u001b[39m time\u001b[38;5;241m.\u001b[39mtime() \u001b[38;5;241m-\u001b[39m start_time\n",
      "File \u001b[0;32m~/miniforge3/lib/python3.9/site-packages/sklearn/linear_model/_logistic.py:1233\u001b[0m, in \u001b[0;36mLogisticRegression.fit\u001b[0;34m(self, X, y, sample_weight)\u001b[0m\n\u001b[1;32m   1230\u001b[0m \u001b[38;5;28;01melse\u001b[39;00m:\n\u001b[1;32m   1231\u001b[0m     n_threads \u001b[38;5;241m=\u001b[39m \u001b[38;5;241m1\u001b[39m\n\u001b[0;32m-> 1233\u001b[0m fold_coefs_ \u001b[38;5;241m=\u001b[39m \u001b[43mParallel\u001b[49m\u001b[43m(\u001b[49m\u001b[43mn_jobs\u001b[49m\u001b[38;5;241;43m=\u001b[39;49m\u001b[38;5;28;43mself\u001b[39;49m\u001b[38;5;241;43m.\u001b[39;49m\u001b[43mn_jobs\u001b[49m\u001b[43m,\u001b[49m\u001b[43m \u001b[49m\u001b[43mverbose\u001b[49m\u001b[38;5;241;43m=\u001b[39;49m\u001b[38;5;28;43mself\u001b[39;49m\u001b[38;5;241;43m.\u001b[39;49m\u001b[43mverbose\u001b[49m\u001b[43m,\u001b[49m\u001b[43m \u001b[49m\u001b[43mprefer\u001b[49m\u001b[38;5;241;43m=\u001b[39;49m\u001b[43mprefer\u001b[49m\u001b[43m)\u001b[49m\u001b[43m(\u001b[49m\n\u001b[1;32m   1234\u001b[0m \u001b[43m    \u001b[49m\u001b[43mpath_func\u001b[49m\u001b[43m(\u001b[49m\n\u001b[1;32m   1235\u001b[0m \u001b[43m        \u001b[49m\u001b[43mX\u001b[49m\u001b[43m,\u001b[49m\n\u001b[1;32m   1236\u001b[0m \u001b[43m        \u001b[49m\u001b[43my\u001b[49m\u001b[43m,\u001b[49m\n\u001b[1;32m   1237\u001b[0m \u001b[43m        \u001b[49m\u001b[43mpos_class\u001b[49m\u001b[38;5;241;43m=\u001b[39;49m\u001b[43mclass_\u001b[49m\u001b[43m,\u001b[49m\n\u001b[1;32m   1238\u001b[0m \u001b[43m        \u001b[49m\u001b[43mCs\u001b[49m\u001b[38;5;241;43m=\u001b[39;49m\u001b[43m[\u001b[49m\u001b[43mC_\u001b[49m\u001b[43m]\u001b[49m\u001b[43m,\u001b[49m\n\u001b[1;32m   1239\u001b[0m \u001b[43m        \u001b[49m\u001b[43ml1_ratio\u001b[49m\u001b[38;5;241;43m=\u001b[39;49m\u001b[38;5;28;43mself\u001b[39;49m\u001b[38;5;241;43m.\u001b[39;49m\u001b[43ml1_ratio\u001b[49m\u001b[43m,\u001b[49m\n\u001b[1;32m   1240\u001b[0m \u001b[43m        \u001b[49m\u001b[43mfit_intercept\u001b[49m\u001b[38;5;241;43m=\u001b[39;49m\u001b[38;5;28;43mself\u001b[39;49m\u001b[38;5;241;43m.\u001b[39;49m\u001b[43mfit_intercept\u001b[49m\u001b[43m,\u001b[49m\n\u001b[1;32m   1241\u001b[0m \u001b[43m        \u001b[49m\u001b[43mtol\u001b[49m\u001b[38;5;241;43m=\u001b[39;49m\u001b[38;5;28;43mself\u001b[39;49m\u001b[38;5;241;43m.\u001b[39;49m\u001b[43mtol\u001b[49m\u001b[43m,\u001b[49m\n\u001b[1;32m   1242\u001b[0m \u001b[43m        \u001b[49m\u001b[43mverbose\u001b[49m\u001b[38;5;241;43m=\u001b[39;49m\u001b[38;5;28;43mself\u001b[39;49m\u001b[38;5;241;43m.\u001b[39;49m\u001b[43mverbose\u001b[49m\u001b[43m,\u001b[49m\n\u001b[1;32m   1243\u001b[0m \u001b[43m        \u001b[49m\u001b[43msolver\u001b[49m\u001b[38;5;241;43m=\u001b[39;49m\u001b[43msolver\u001b[49m\u001b[43m,\u001b[49m\n\u001b[1;32m   1244\u001b[0m \u001b[43m        \u001b[49m\u001b[43mmulti_class\u001b[49m\u001b[38;5;241;43m=\u001b[39;49m\u001b[43mmulti_class\u001b[49m\u001b[43m,\u001b[49m\n\u001b[1;32m   1245\u001b[0m \u001b[43m        \u001b[49m\u001b[43mmax_iter\u001b[49m\u001b[38;5;241;43m=\u001b[39;49m\u001b[38;5;28;43mself\u001b[39;49m\u001b[38;5;241;43m.\u001b[39;49m\u001b[43mmax_iter\u001b[49m\u001b[43m,\u001b[49m\n\u001b[1;32m   1246\u001b[0m \u001b[43m        \u001b[49m\u001b[43mclass_weight\u001b[49m\u001b[38;5;241;43m=\u001b[39;49m\u001b[38;5;28;43mself\u001b[39;49m\u001b[38;5;241;43m.\u001b[39;49m\u001b[43mclass_weight\u001b[49m\u001b[43m,\u001b[49m\n\u001b[1;32m   1247\u001b[0m \u001b[43m        \u001b[49m\u001b[43mcheck_input\u001b[49m\u001b[38;5;241;43m=\u001b[39;49m\u001b[38;5;28;43;01mFalse\u001b[39;49;00m\u001b[43m,\u001b[49m\n\u001b[1;32m   1248\u001b[0m \u001b[43m        \u001b[49m\u001b[43mrandom_state\u001b[49m\u001b[38;5;241;43m=\u001b[39;49m\u001b[38;5;28;43mself\u001b[39;49m\u001b[38;5;241;43m.\u001b[39;49m\u001b[43mrandom_state\u001b[49m\u001b[43m,\u001b[49m\n\u001b[1;32m   1249\u001b[0m \u001b[43m        \u001b[49m\u001b[43mcoef\u001b[49m\u001b[38;5;241;43m=\u001b[39;49m\u001b[43mwarm_start_coef_\u001b[49m\u001b[43m,\u001b[49m\n\u001b[1;32m   1250\u001b[0m \u001b[43m        \u001b[49m\u001b[43mpenalty\u001b[49m\u001b[38;5;241;43m=\u001b[39;49m\u001b[43mpenalty\u001b[49m\u001b[43m,\u001b[49m\n\u001b[1;32m   1251\u001b[0m \u001b[43m        \u001b[49m\u001b[43mmax_squared_sum\u001b[49m\u001b[38;5;241;43m=\u001b[39;49m\u001b[43mmax_squared_sum\u001b[49m\u001b[43m,\u001b[49m\n\u001b[1;32m   1252\u001b[0m \u001b[43m        \u001b[49m\u001b[43msample_weight\u001b[49m\u001b[38;5;241;43m=\u001b[39;49m\u001b[43msample_weight\u001b[49m\u001b[43m,\u001b[49m\n\u001b[1;32m   1253\u001b[0m \u001b[43m        \u001b[49m\u001b[43mn_threads\u001b[49m\u001b[38;5;241;43m=\u001b[39;49m\u001b[43mn_threads\u001b[49m\u001b[43m,\u001b[49m\n\u001b[1;32m   1254\u001b[0m \u001b[43m    \u001b[49m\u001b[43m)\u001b[49m\n\u001b[1;32m   1255\u001b[0m \u001b[43m    \u001b[49m\u001b[38;5;28;43;01mfor\u001b[39;49;00m\u001b[43m \u001b[49m\u001b[43mclass_\u001b[49m\u001b[43m,\u001b[49m\u001b[43m \u001b[49m\u001b[43mwarm_start_coef_\u001b[49m\u001b[43m \u001b[49m\u001b[38;5;129;43;01min\u001b[39;49;00m\u001b[43m \u001b[49m\u001b[38;5;28;43mzip\u001b[39;49m\u001b[43m(\u001b[49m\u001b[43mclasses_\u001b[49m\u001b[43m,\u001b[49m\u001b[43m \u001b[49m\u001b[43mwarm_start_coef\u001b[49m\u001b[43m)\u001b[49m\n\u001b[1;32m   1256\u001b[0m \u001b[43m\u001b[49m\u001b[43m)\u001b[49m\n\u001b[1;32m   1258\u001b[0m fold_coefs_, _, n_iter_ \u001b[38;5;241m=\u001b[39m \u001b[38;5;28mzip\u001b[39m(\u001b[38;5;241m*\u001b[39mfold_coefs_)\n\u001b[1;32m   1259\u001b[0m \u001b[38;5;28mself\u001b[39m\u001b[38;5;241m.\u001b[39mn_iter_ \u001b[38;5;241m=\u001b[39m np\u001b[38;5;241m.\u001b[39masarray(n_iter_, dtype\u001b[38;5;241m=\u001b[39mnp\u001b[38;5;241m.\u001b[39mint32)[:, \u001b[38;5;241m0\u001b[39m]\n",
      "File \u001b[0;32m~/miniforge3/lib/python3.9/site-packages/joblib/parallel.py:1043\u001b[0m, in \u001b[0;36mParallel.__call__\u001b[0;34m(self, iterable)\u001b[0m\n\u001b[1;32m   1034\u001b[0m \u001b[38;5;28;01mtry\u001b[39;00m:\n\u001b[1;32m   1035\u001b[0m     \u001b[38;5;66;03m# Only set self._iterating to True if at least a batch\u001b[39;00m\n\u001b[1;32m   1036\u001b[0m     \u001b[38;5;66;03m# was dispatched. In particular this covers the edge\u001b[39;00m\n\u001b[0;32m   (...)\u001b[0m\n\u001b[1;32m   1040\u001b[0m     \u001b[38;5;66;03m# was very quick and its callback already dispatched all the\u001b[39;00m\n\u001b[1;32m   1041\u001b[0m     \u001b[38;5;66;03m# remaining jobs.\u001b[39;00m\n\u001b[1;32m   1042\u001b[0m     \u001b[38;5;28mself\u001b[39m\u001b[38;5;241m.\u001b[39m_iterating \u001b[38;5;241m=\u001b[39m \u001b[38;5;28;01mFalse\u001b[39;00m\n\u001b[0;32m-> 1043\u001b[0m     \u001b[38;5;28;01mif\u001b[39;00m \u001b[38;5;28;43mself\u001b[39;49m\u001b[38;5;241;43m.\u001b[39;49m\u001b[43mdispatch_one_batch\u001b[49m\u001b[43m(\u001b[49m\u001b[43miterator\u001b[49m\u001b[43m)\u001b[49m:\n\u001b[1;32m   1044\u001b[0m         \u001b[38;5;28mself\u001b[39m\u001b[38;5;241m.\u001b[39m_iterating \u001b[38;5;241m=\u001b[39m \u001b[38;5;28mself\u001b[39m\u001b[38;5;241m.\u001b[39m_original_iterator \u001b[38;5;129;01mis\u001b[39;00m \u001b[38;5;129;01mnot\u001b[39;00m \u001b[38;5;28;01mNone\u001b[39;00m\n\u001b[1;32m   1046\u001b[0m     \u001b[38;5;28;01mwhile\u001b[39;00m \u001b[38;5;28mself\u001b[39m\u001b[38;5;241m.\u001b[39mdispatch_one_batch(iterator):\n",
      "File \u001b[0;32m~/miniforge3/lib/python3.9/site-packages/joblib/parallel.py:861\u001b[0m, in \u001b[0;36mParallel.dispatch_one_batch\u001b[0;34m(self, iterator)\u001b[0m\n\u001b[1;32m    859\u001b[0m     \u001b[38;5;28;01mreturn\u001b[39;00m \u001b[38;5;28;01mFalse\u001b[39;00m\n\u001b[1;32m    860\u001b[0m \u001b[38;5;28;01melse\u001b[39;00m:\n\u001b[0;32m--> 861\u001b[0m     \u001b[38;5;28;43mself\u001b[39;49m\u001b[38;5;241;43m.\u001b[39;49m\u001b[43m_dispatch\u001b[49m\u001b[43m(\u001b[49m\u001b[43mtasks\u001b[49m\u001b[43m)\u001b[49m\n\u001b[1;32m    862\u001b[0m     \u001b[38;5;28;01mreturn\u001b[39;00m \u001b[38;5;28;01mTrue\u001b[39;00m\n",
      "File \u001b[0;32m~/miniforge3/lib/python3.9/site-packages/joblib/parallel.py:779\u001b[0m, in \u001b[0;36mParallel._dispatch\u001b[0;34m(self, batch)\u001b[0m\n\u001b[1;32m    777\u001b[0m \u001b[38;5;28;01mwith\u001b[39;00m \u001b[38;5;28mself\u001b[39m\u001b[38;5;241m.\u001b[39m_lock:\n\u001b[1;32m    778\u001b[0m     job_idx \u001b[38;5;241m=\u001b[39m \u001b[38;5;28mlen\u001b[39m(\u001b[38;5;28mself\u001b[39m\u001b[38;5;241m.\u001b[39m_jobs)\n\u001b[0;32m--> 779\u001b[0m     job \u001b[38;5;241m=\u001b[39m \u001b[38;5;28;43mself\u001b[39;49m\u001b[38;5;241;43m.\u001b[39;49m\u001b[43m_backend\u001b[49m\u001b[38;5;241;43m.\u001b[39;49m\u001b[43mapply_async\u001b[49m\u001b[43m(\u001b[49m\u001b[43mbatch\u001b[49m\u001b[43m,\u001b[49m\u001b[43m \u001b[49m\u001b[43mcallback\u001b[49m\u001b[38;5;241;43m=\u001b[39;49m\u001b[43mcb\u001b[49m\u001b[43m)\u001b[49m\n\u001b[1;32m    780\u001b[0m     \u001b[38;5;66;03m# A job can complete so quickly than its callback is\u001b[39;00m\n\u001b[1;32m    781\u001b[0m     \u001b[38;5;66;03m# called before we get here, causing self._jobs to\u001b[39;00m\n\u001b[1;32m    782\u001b[0m     \u001b[38;5;66;03m# grow. To ensure correct results ordering, .insert is\u001b[39;00m\n\u001b[1;32m    783\u001b[0m     \u001b[38;5;66;03m# used (rather than .append) in the following line\u001b[39;00m\n\u001b[1;32m    784\u001b[0m     \u001b[38;5;28mself\u001b[39m\u001b[38;5;241m.\u001b[39m_jobs\u001b[38;5;241m.\u001b[39minsert(job_idx, job)\n",
      "File \u001b[0;32m~/miniforge3/lib/python3.9/site-packages/joblib/_parallel_backends.py:208\u001b[0m, in \u001b[0;36mSequentialBackend.apply_async\u001b[0;34m(self, func, callback)\u001b[0m\n\u001b[1;32m    206\u001b[0m \u001b[38;5;28;01mdef\u001b[39;00m \u001b[38;5;21mapply_async\u001b[39m(\u001b[38;5;28mself\u001b[39m, func, callback\u001b[38;5;241m=\u001b[39m\u001b[38;5;28;01mNone\u001b[39;00m):\n\u001b[1;32m    207\u001b[0m     \u001b[38;5;124;03m\"\"\"Schedule a func to be run\"\"\"\u001b[39;00m\n\u001b[0;32m--> 208\u001b[0m     result \u001b[38;5;241m=\u001b[39m \u001b[43mImmediateResult\u001b[49m\u001b[43m(\u001b[49m\u001b[43mfunc\u001b[49m\u001b[43m)\u001b[49m\n\u001b[1;32m    209\u001b[0m     \u001b[38;5;28;01mif\u001b[39;00m callback:\n\u001b[1;32m    210\u001b[0m         callback(result)\n",
      "File \u001b[0;32m~/miniforge3/lib/python3.9/site-packages/joblib/_parallel_backends.py:572\u001b[0m, in \u001b[0;36mImmediateResult.__init__\u001b[0;34m(self, batch)\u001b[0m\n\u001b[1;32m    569\u001b[0m \u001b[38;5;28;01mdef\u001b[39;00m \u001b[38;5;21m__init__\u001b[39m(\u001b[38;5;28mself\u001b[39m, batch):\n\u001b[1;32m    570\u001b[0m     \u001b[38;5;66;03m# Don't delay the application, to avoid keeping the input\u001b[39;00m\n\u001b[1;32m    571\u001b[0m     \u001b[38;5;66;03m# arguments in memory\u001b[39;00m\n\u001b[0;32m--> 572\u001b[0m     \u001b[38;5;28mself\u001b[39m\u001b[38;5;241m.\u001b[39mresults \u001b[38;5;241m=\u001b[39m \u001b[43mbatch\u001b[49m\u001b[43m(\u001b[49m\u001b[43m)\u001b[49m\n",
      "File \u001b[0;32m~/miniforge3/lib/python3.9/site-packages/joblib/parallel.py:262\u001b[0m, in \u001b[0;36mBatchedCalls.__call__\u001b[0;34m(self)\u001b[0m\n\u001b[1;32m    258\u001b[0m \u001b[38;5;28;01mdef\u001b[39;00m \u001b[38;5;21m__call__\u001b[39m(\u001b[38;5;28mself\u001b[39m):\n\u001b[1;32m    259\u001b[0m     \u001b[38;5;66;03m# Set the default nested backend to self._backend but do not set the\u001b[39;00m\n\u001b[1;32m    260\u001b[0m     \u001b[38;5;66;03m# change the default number of processes to -1\u001b[39;00m\n\u001b[1;32m    261\u001b[0m     \u001b[38;5;28;01mwith\u001b[39;00m parallel_backend(\u001b[38;5;28mself\u001b[39m\u001b[38;5;241m.\u001b[39m_backend, n_jobs\u001b[38;5;241m=\u001b[39m\u001b[38;5;28mself\u001b[39m\u001b[38;5;241m.\u001b[39m_n_jobs):\n\u001b[0;32m--> 262\u001b[0m         \u001b[38;5;28;01mreturn\u001b[39;00m [func(\u001b[38;5;241m*\u001b[39margs, \u001b[38;5;241m*\u001b[39m\u001b[38;5;241m*\u001b[39mkwargs)\n\u001b[1;32m    263\u001b[0m                 \u001b[38;5;28;01mfor\u001b[39;00m func, args, kwargs \u001b[38;5;129;01min\u001b[39;00m \u001b[38;5;28mself\u001b[39m\u001b[38;5;241m.\u001b[39mitems]\n",
      "File \u001b[0;32m~/miniforge3/lib/python3.9/site-packages/joblib/parallel.py:262\u001b[0m, in \u001b[0;36m<listcomp>\u001b[0;34m(.0)\u001b[0m\n\u001b[1;32m    258\u001b[0m \u001b[38;5;28;01mdef\u001b[39;00m \u001b[38;5;21m__call__\u001b[39m(\u001b[38;5;28mself\u001b[39m):\n\u001b[1;32m    259\u001b[0m     \u001b[38;5;66;03m# Set the default nested backend to self._backend but do not set the\u001b[39;00m\n\u001b[1;32m    260\u001b[0m     \u001b[38;5;66;03m# change the default number of processes to -1\u001b[39;00m\n\u001b[1;32m    261\u001b[0m     \u001b[38;5;28;01mwith\u001b[39;00m parallel_backend(\u001b[38;5;28mself\u001b[39m\u001b[38;5;241m.\u001b[39m_backend, n_jobs\u001b[38;5;241m=\u001b[39m\u001b[38;5;28mself\u001b[39m\u001b[38;5;241m.\u001b[39m_n_jobs):\n\u001b[0;32m--> 262\u001b[0m         \u001b[38;5;28;01mreturn\u001b[39;00m [\u001b[43mfunc\u001b[49m\u001b[43m(\u001b[49m\u001b[38;5;241;43m*\u001b[39;49m\u001b[43margs\u001b[49m\u001b[43m,\u001b[49m\u001b[43m \u001b[49m\u001b[38;5;241;43m*\u001b[39;49m\u001b[38;5;241;43m*\u001b[39;49m\u001b[43mkwargs\u001b[49m\u001b[43m)\u001b[49m\n\u001b[1;32m    263\u001b[0m                 \u001b[38;5;28;01mfor\u001b[39;00m func, args, kwargs \u001b[38;5;129;01min\u001b[39;00m \u001b[38;5;28mself\u001b[39m\u001b[38;5;241m.\u001b[39mitems]\n",
      "File \u001b[0;32m~/miniforge3/lib/python3.9/site-packages/sklearn/utils/fixes.py:117\u001b[0m, in \u001b[0;36m_FuncWrapper.__call__\u001b[0;34m(self, *args, **kwargs)\u001b[0m\n\u001b[1;32m    115\u001b[0m \u001b[38;5;28;01mdef\u001b[39;00m \u001b[38;5;21m__call__\u001b[39m(\u001b[38;5;28mself\u001b[39m, \u001b[38;5;241m*\u001b[39margs, \u001b[38;5;241m*\u001b[39m\u001b[38;5;241m*\u001b[39mkwargs):\n\u001b[1;32m    116\u001b[0m     \u001b[38;5;28;01mwith\u001b[39;00m config_context(\u001b[38;5;241m*\u001b[39m\u001b[38;5;241m*\u001b[39m\u001b[38;5;28mself\u001b[39m\u001b[38;5;241m.\u001b[39mconfig):\n\u001b[0;32m--> 117\u001b[0m         \u001b[38;5;28;01mreturn\u001b[39;00m \u001b[38;5;28;43mself\u001b[39;49m\u001b[38;5;241;43m.\u001b[39;49m\u001b[43mfunction\u001b[49m\u001b[43m(\u001b[49m\u001b[38;5;241;43m*\u001b[39;49m\u001b[43margs\u001b[49m\u001b[43m,\u001b[49m\u001b[43m \u001b[49m\u001b[38;5;241;43m*\u001b[39;49m\u001b[38;5;241;43m*\u001b[39;49m\u001b[43mkwargs\u001b[49m\u001b[43m)\u001b[49m\n",
      "File \u001b[0;32m~/miniforge3/lib/python3.9/site-packages/sklearn/linear_model/_logistic.py:436\u001b[0m, in \u001b[0;36m_logistic_regression_path\u001b[0;34m(X, y, pos_class, Cs, fit_intercept, max_iter, tol, verbose, solver, coef, class_weight, dual, penalty, intercept_scaling, multi_class, random_state, check_input, max_squared_sum, sample_weight, l1_ratio, n_threads)\u001b[0m\n\u001b[1;32m    432\u001b[0m l2_reg_strength \u001b[38;5;241m=\u001b[39m \u001b[38;5;241m1.0\u001b[39m \u001b[38;5;241m/\u001b[39m C\n\u001b[1;32m    433\u001b[0m iprint \u001b[38;5;241m=\u001b[39m [\u001b[38;5;241m-\u001b[39m\u001b[38;5;241m1\u001b[39m, \u001b[38;5;241m50\u001b[39m, \u001b[38;5;241m1\u001b[39m, \u001b[38;5;241m100\u001b[39m, \u001b[38;5;241m101\u001b[39m][\n\u001b[1;32m    434\u001b[0m     np\u001b[38;5;241m.\u001b[39msearchsorted(np\u001b[38;5;241m.\u001b[39marray([\u001b[38;5;241m0\u001b[39m, \u001b[38;5;241m1\u001b[39m, \u001b[38;5;241m2\u001b[39m, \u001b[38;5;241m3\u001b[39m]), verbose)\n\u001b[1;32m    435\u001b[0m ]\n\u001b[0;32m--> 436\u001b[0m opt_res \u001b[38;5;241m=\u001b[39m \u001b[43moptimize\u001b[49m\u001b[38;5;241;43m.\u001b[39;49m\u001b[43mminimize\u001b[49m\u001b[43m(\u001b[49m\n\u001b[1;32m    437\u001b[0m \u001b[43m    \u001b[49m\u001b[43mfunc\u001b[49m\u001b[43m,\u001b[49m\n\u001b[1;32m    438\u001b[0m \u001b[43m    \u001b[49m\u001b[43mw0\u001b[49m\u001b[43m,\u001b[49m\n\u001b[1;32m    439\u001b[0m \u001b[43m    \u001b[49m\u001b[43mmethod\u001b[49m\u001b[38;5;241;43m=\u001b[39;49m\u001b[38;5;124;43m\"\u001b[39;49m\u001b[38;5;124;43mL-BFGS-B\u001b[39;49m\u001b[38;5;124;43m\"\u001b[39;49m\u001b[43m,\u001b[49m\n\u001b[1;32m    440\u001b[0m \u001b[43m    \u001b[49m\u001b[43mjac\u001b[49m\u001b[38;5;241;43m=\u001b[39;49m\u001b[38;5;28;43;01mTrue\u001b[39;49;00m\u001b[43m,\u001b[49m\n\u001b[1;32m    441\u001b[0m \u001b[43m    \u001b[49m\u001b[43margs\u001b[49m\u001b[38;5;241;43m=\u001b[39;49m\u001b[43m(\u001b[49m\u001b[43mX\u001b[49m\u001b[43m,\u001b[49m\u001b[43m \u001b[49m\u001b[43mtarget\u001b[49m\u001b[43m,\u001b[49m\u001b[43m \u001b[49m\u001b[43msample_weight\u001b[49m\u001b[43m,\u001b[49m\u001b[43m \u001b[49m\u001b[43ml2_reg_strength\u001b[49m\u001b[43m,\u001b[49m\u001b[43m \u001b[49m\u001b[43mn_threads\u001b[49m\u001b[43m)\u001b[49m\u001b[43m,\u001b[49m\n\u001b[1;32m    442\u001b[0m \u001b[43m    \u001b[49m\u001b[43moptions\u001b[49m\u001b[38;5;241;43m=\u001b[39;49m\u001b[43m{\u001b[49m\u001b[38;5;124;43m\"\u001b[39;49m\u001b[38;5;124;43miprint\u001b[39;49m\u001b[38;5;124;43m\"\u001b[39;49m\u001b[43m:\u001b[49m\u001b[43m \u001b[49m\u001b[43miprint\u001b[49m\u001b[43m,\u001b[49m\u001b[43m \u001b[49m\u001b[38;5;124;43m\"\u001b[39;49m\u001b[38;5;124;43mgtol\u001b[39;49m\u001b[38;5;124;43m\"\u001b[39;49m\u001b[43m:\u001b[49m\u001b[43m \u001b[49m\u001b[43mtol\u001b[49m\u001b[43m,\u001b[49m\u001b[43m \u001b[49m\u001b[38;5;124;43m\"\u001b[39;49m\u001b[38;5;124;43mmaxiter\u001b[39;49m\u001b[38;5;124;43m\"\u001b[39;49m\u001b[43m:\u001b[49m\u001b[43m \u001b[49m\u001b[43mmax_iter\u001b[49m\u001b[43m}\u001b[49m\u001b[43m,\u001b[49m\n\u001b[1;32m    443\u001b[0m \u001b[43m\u001b[49m\u001b[43m)\u001b[49m\n\u001b[1;32m    444\u001b[0m n_iter_i \u001b[38;5;241m=\u001b[39m _check_optimize_result(\n\u001b[1;32m    445\u001b[0m     solver,\n\u001b[1;32m    446\u001b[0m     opt_res,\n\u001b[1;32m    447\u001b[0m     max_iter,\n\u001b[1;32m    448\u001b[0m     extra_warning_msg\u001b[38;5;241m=\u001b[39m_LOGISTIC_SOLVER_CONVERGENCE_MSG,\n\u001b[1;32m    449\u001b[0m )\n\u001b[1;32m    450\u001b[0m w0, loss \u001b[38;5;241m=\u001b[39m opt_res\u001b[38;5;241m.\u001b[39mx, opt_res\u001b[38;5;241m.\u001b[39mfun\n",
      "File \u001b[0;32m~/miniforge3/lib/python3.9/site-packages/scipy/optimize/_minimize.py:692\u001b[0m, in \u001b[0;36mminimize\u001b[0;34m(fun, x0, args, method, jac, hess, hessp, bounds, constraints, tol, callback, options)\u001b[0m\n\u001b[1;32m    689\u001b[0m     res \u001b[38;5;241m=\u001b[39m _minimize_newtoncg(fun, x0, args, jac, hess, hessp, callback,\n\u001b[1;32m    690\u001b[0m                              \u001b[38;5;241m*\u001b[39m\u001b[38;5;241m*\u001b[39moptions)\n\u001b[1;32m    691\u001b[0m \u001b[38;5;28;01melif\u001b[39;00m meth \u001b[38;5;241m==\u001b[39m \u001b[38;5;124m'\u001b[39m\u001b[38;5;124ml-bfgs-b\u001b[39m\u001b[38;5;124m'\u001b[39m:\n\u001b[0;32m--> 692\u001b[0m     res \u001b[38;5;241m=\u001b[39m \u001b[43m_minimize_lbfgsb\u001b[49m\u001b[43m(\u001b[49m\u001b[43mfun\u001b[49m\u001b[43m,\u001b[49m\u001b[43m \u001b[49m\u001b[43mx0\u001b[49m\u001b[43m,\u001b[49m\u001b[43m \u001b[49m\u001b[43margs\u001b[49m\u001b[43m,\u001b[49m\u001b[43m \u001b[49m\u001b[43mjac\u001b[49m\u001b[43m,\u001b[49m\u001b[43m \u001b[49m\u001b[43mbounds\u001b[49m\u001b[43m,\u001b[49m\n\u001b[1;32m    693\u001b[0m \u001b[43m                           \u001b[49m\u001b[43mcallback\u001b[49m\u001b[38;5;241;43m=\u001b[39;49m\u001b[43mcallback\u001b[49m\u001b[43m,\u001b[49m\u001b[43m \u001b[49m\u001b[38;5;241;43m*\u001b[39;49m\u001b[38;5;241;43m*\u001b[39;49m\u001b[43moptions\u001b[49m\u001b[43m)\u001b[49m\n\u001b[1;32m    694\u001b[0m \u001b[38;5;28;01melif\u001b[39;00m meth \u001b[38;5;241m==\u001b[39m \u001b[38;5;124m'\u001b[39m\u001b[38;5;124mtnc\u001b[39m\u001b[38;5;124m'\u001b[39m:\n\u001b[1;32m    695\u001b[0m     res \u001b[38;5;241m=\u001b[39m _minimize_tnc(fun, x0, args, jac, bounds, callback\u001b[38;5;241m=\u001b[39mcallback,\n\u001b[1;32m    696\u001b[0m                         \u001b[38;5;241m*\u001b[39m\u001b[38;5;241m*\u001b[39moptions)\n",
      "File \u001b[0;32m~/miniforge3/lib/python3.9/site-packages/scipy/optimize/_lbfgsb_py.py:362\u001b[0m, in \u001b[0;36m_minimize_lbfgsb\u001b[0;34m(fun, x0, args, jac, bounds, disp, maxcor, ftol, gtol, eps, maxfun, maxiter, iprint, callback, maxls, finite_diff_rel_step, **unknown_options)\u001b[0m\n\u001b[1;32m    356\u001b[0m task_str \u001b[38;5;241m=\u001b[39m task\u001b[38;5;241m.\u001b[39mtobytes()\n\u001b[1;32m    357\u001b[0m \u001b[38;5;28;01mif\u001b[39;00m task_str\u001b[38;5;241m.\u001b[39mstartswith(\u001b[38;5;124mb\u001b[39m\u001b[38;5;124m'\u001b[39m\u001b[38;5;124mFG\u001b[39m\u001b[38;5;124m'\u001b[39m):\n\u001b[1;32m    358\u001b[0m     \u001b[38;5;66;03m# The minimization routine wants f and g at the current x.\u001b[39;00m\n\u001b[1;32m    359\u001b[0m     \u001b[38;5;66;03m# Note that interruptions due to maxfun are postponed\u001b[39;00m\n\u001b[1;32m    360\u001b[0m     \u001b[38;5;66;03m# until the completion of the current minimization iteration.\u001b[39;00m\n\u001b[1;32m    361\u001b[0m     \u001b[38;5;66;03m# Overwrite f and g:\u001b[39;00m\n\u001b[0;32m--> 362\u001b[0m     f, g \u001b[38;5;241m=\u001b[39m \u001b[43mfunc_and_grad\u001b[49m\u001b[43m(\u001b[49m\u001b[43mx\u001b[49m\u001b[43m)\u001b[49m\n\u001b[1;32m    363\u001b[0m \u001b[38;5;28;01melif\u001b[39;00m task_str\u001b[38;5;241m.\u001b[39mstartswith(\u001b[38;5;124mb\u001b[39m\u001b[38;5;124m'\u001b[39m\u001b[38;5;124mNEW_X\u001b[39m\u001b[38;5;124m'\u001b[39m):\n\u001b[1;32m    364\u001b[0m     \u001b[38;5;66;03m# new iteration\u001b[39;00m\n\u001b[1;32m    365\u001b[0m     n_iterations \u001b[38;5;241m+\u001b[39m\u001b[38;5;241m=\u001b[39m \u001b[38;5;241m1\u001b[39m\n",
      "File \u001b[0;32m~/miniforge3/lib/python3.9/site-packages/scipy/optimize/_differentiable_functions.py:285\u001b[0m, in \u001b[0;36mScalarFunction.fun_and_grad\u001b[0;34m(self, x)\u001b[0m\n\u001b[1;32m    283\u001b[0m \u001b[38;5;28;01mif\u001b[39;00m \u001b[38;5;129;01mnot\u001b[39;00m np\u001b[38;5;241m.\u001b[39marray_equal(x, \u001b[38;5;28mself\u001b[39m\u001b[38;5;241m.\u001b[39mx):\n\u001b[1;32m    284\u001b[0m     \u001b[38;5;28mself\u001b[39m\u001b[38;5;241m.\u001b[39m_update_x_impl(x)\n\u001b[0;32m--> 285\u001b[0m \u001b[38;5;28;43mself\u001b[39;49m\u001b[38;5;241;43m.\u001b[39;49m\u001b[43m_update_fun\u001b[49m\u001b[43m(\u001b[49m\u001b[43m)\u001b[49m\n\u001b[1;32m    286\u001b[0m \u001b[38;5;28mself\u001b[39m\u001b[38;5;241m.\u001b[39m_update_grad()\n\u001b[1;32m    287\u001b[0m \u001b[38;5;28;01mreturn\u001b[39;00m \u001b[38;5;28mself\u001b[39m\u001b[38;5;241m.\u001b[39mf, \u001b[38;5;28mself\u001b[39m\u001b[38;5;241m.\u001b[39mg\n",
      "File \u001b[0;32m~/miniforge3/lib/python3.9/site-packages/scipy/optimize/_differentiable_functions.py:251\u001b[0m, in \u001b[0;36mScalarFunction._update_fun\u001b[0;34m(self)\u001b[0m\n\u001b[1;32m    249\u001b[0m \u001b[38;5;28;01mdef\u001b[39;00m \u001b[38;5;21m_update_fun\u001b[39m(\u001b[38;5;28mself\u001b[39m):\n\u001b[1;32m    250\u001b[0m     \u001b[38;5;28;01mif\u001b[39;00m \u001b[38;5;129;01mnot\u001b[39;00m \u001b[38;5;28mself\u001b[39m\u001b[38;5;241m.\u001b[39mf_updated:\n\u001b[0;32m--> 251\u001b[0m         \u001b[38;5;28;43mself\u001b[39;49m\u001b[38;5;241;43m.\u001b[39;49m\u001b[43m_update_fun_impl\u001b[49m\u001b[43m(\u001b[49m\u001b[43m)\u001b[49m\n\u001b[1;32m    252\u001b[0m         \u001b[38;5;28mself\u001b[39m\u001b[38;5;241m.\u001b[39mf_updated \u001b[38;5;241m=\u001b[39m \u001b[38;5;28;01mTrue\u001b[39;00m\n",
      "File \u001b[0;32m~/miniforge3/lib/python3.9/site-packages/scipy/optimize/_differentiable_functions.py:155\u001b[0m, in \u001b[0;36mScalarFunction.__init__.<locals>.update_fun\u001b[0;34m()\u001b[0m\n\u001b[1;32m    154\u001b[0m \u001b[38;5;28;01mdef\u001b[39;00m \u001b[38;5;21mupdate_fun\u001b[39m():\n\u001b[0;32m--> 155\u001b[0m     \u001b[38;5;28mself\u001b[39m\u001b[38;5;241m.\u001b[39mf \u001b[38;5;241m=\u001b[39m \u001b[43mfun_wrapped\u001b[49m\u001b[43m(\u001b[49m\u001b[38;5;28;43mself\u001b[39;49m\u001b[38;5;241;43m.\u001b[39;49m\u001b[43mx\u001b[49m\u001b[43m)\u001b[49m\n",
      "File \u001b[0;32m~/miniforge3/lib/python3.9/site-packages/scipy/optimize/_differentiable_functions.py:137\u001b[0m, in \u001b[0;36mScalarFunction.__init__.<locals>.fun_wrapped\u001b[0;34m(x)\u001b[0m\n\u001b[1;32m    133\u001b[0m \u001b[38;5;28mself\u001b[39m\u001b[38;5;241m.\u001b[39mnfev \u001b[38;5;241m+\u001b[39m\u001b[38;5;241m=\u001b[39m \u001b[38;5;241m1\u001b[39m\n\u001b[1;32m    134\u001b[0m \u001b[38;5;66;03m# Send a copy because the user may overwrite it.\u001b[39;00m\n\u001b[1;32m    135\u001b[0m \u001b[38;5;66;03m# Overwriting results in undefined behaviour because\u001b[39;00m\n\u001b[1;32m    136\u001b[0m \u001b[38;5;66;03m# fun(self.x) will change self.x, with the two no longer linked.\u001b[39;00m\n\u001b[0;32m--> 137\u001b[0m fx \u001b[38;5;241m=\u001b[39m \u001b[43mfun\u001b[49m\u001b[43m(\u001b[49m\u001b[43mnp\u001b[49m\u001b[38;5;241;43m.\u001b[39;49m\u001b[43mcopy\u001b[49m\u001b[43m(\u001b[49m\u001b[43mx\u001b[49m\u001b[43m)\u001b[49m\u001b[43m,\u001b[49m\u001b[43m \u001b[49m\u001b[38;5;241;43m*\u001b[39;49m\u001b[43margs\u001b[49m\u001b[43m)\u001b[49m\n\u001b[1;32m    138\u001b[0m \u001b[38;5;66;03m# Make sure the function returns a true scalar\u001b[39;00m\n\u001b[1;32m    139\u001b[0m \u001b[38;5;28;01mif\u001b[39;00m \u001b[38;5;129;01mnot\u001b[39;00m np\u001b[38;5;241m.\u001b[39misscalar(fx):\n",
      "File \u001b[0;32m~/miniforge3/lib/python3.9/site-packages/scipy/optimize/_optimize.py:76\u001b[0m, in \u001b[0;36mMemoizeJac.__call__\u001b[0;34m(self, x, *args)\u001b[0m\n\u001b[1;32m     74\u001b[0m \u001b[38;5;28;01mdef\u001b[39;00m \u001b[38;5;21m__call__\u001b[39m(\u001b[38;5;28mself\u001b[39m, x, \u001b[38;5;241m*\u001b[39margs):\n\u001b[1;32m     75\u001b[0m     \u001b[38;5;124;03m\"\"\" returns the the function value \"\"\"\u001b[39;00m\n\u001b[0;32m---> 76\u001b[0m     \u001b[38;5;28;43mself\u001b[39;49m\u001b[38;5;241;43m.\u001b[39;49m\u001b[43m_compute_if_needed\u001b[49m\u001b[43m(\u001b[49m\u001b[43mx\u001b[49m\u001b[43m,\u001b[49m\u001b[43m \u001b[49m\u001b[38;5;241;43m*\u001b[39;49m\u001b[43margs\u001b[49m\u001b[43m)\u001b[49m\n\u001b[1;32m     77\u001b[0m     \u001b[38;5;28;01mreturn\u001b[39;00m \u001b[38;5;28mself\u001b[39m\u001b[38;5;241m.\u001b[39m_value\n",
      "File \u001b[0;32m~/miniforge3/lib/python3.9/site-packages/scipy/optimize/_optimize.py:70\u001b[0m, in \u001b[0;36mMemoizeJac._compute_if_needed\u001b[0;34m(self, x, *args)\u001b[0m\n\u001b[1;32m     68\u001b[0m \u001b[38;5;28;01mif\u001b[39;00m \u001b[38;5;129;01mnot\u001b[39;00m np\u001b[38;5;241m.\u001b[39mall(x \u001b[38;5;241m==\u001b[39m \u001b[38;5;28mself\u001b[39m\u001b[38;5;241m.\u001b[39mx) \u001b[38;5;129;01mor\u001b[39;00m \u001b[38;5;28mself\u001b[39m\u001b[38;5;241m.\u001b[39m_value \u001b[38;5;129;01mis\u001b[39;00m \u001b[38;5;28;01mNone\u001b[39;00m \u001b[38;5;129;01mor\u001b[39;00m \u001b[38;5;28mself\u001b[39m\u001b[38;5;241m.\u001b[39mjac \u001b[38;5;129;01mis\u001b[39;00m \u001b[38;5;28;01mNone\u001b[39;00m:\n\u001b[1;32m     69\u001b[0m     \u001b[38;5;28mself\u001b[39m\u001b[38;5;241m.\u001b[39mx \u001b[38;5;241m=\u001b[39m np\u001b[38;5;241m.\u001b[39masarray(x)\u001b[38;5;241m.\u001b[39mcopy()\n\u001b[0;32m---> 70\u001b[0m     fg \u001b[38;5;241m=\u001b[39m \u001b[38;5;28;43mself\u001b[39;49m\u001b[38;5;241;43m.\u001b[39;49m\u001b[43mfun\u001b[49m\u001b[43m(\u001b[49m\u001b[43mx\u001b[49m\u001b[43m,\u001b[49m\u001b[43m \u001b[49m\u001b[38;5;241;43m*\u001b[39;49m\u001b[43margs\u001b[49m\u001b[43m)\u001b[49m\n\u001b[1;32m     71\u001b[0m     \u001b[38;5;28mself\u001b[39m\u001b[38;5;241m.\u001b[39mjac \u001b[38;5;241m=\u001b[39m fg[\u001b[38;5;241m1\u001b[39m]\n\u001b[1;32m     72\u001b[0m     \u001b[38;5;28mself\u001b[39m\u001b[38;5;241m.\u001b[39m_value \u001b[38;5;241m=\u001b[39m fg[\u001b[38;5;241m0\u001b[39m]\n",
      "File \u001b[0;32m~/miniforge3/lib/python3.9/site-packages/sklearn/linear_model/_linear_loss.py:207\u001b[0m, in \u001b[0;36mLinearModelLoss.loss_gradient\u001b[0;34m(self, coef, X, y, sample_weight, l2_reg_strength, n_threads)\u001b[0m\n\u001b[1;32m    205\u001b[0m grad \u001b[38;5;241m=\u001b[39m np\u001b[38;5;241m.\u001b[39mempty((n_classes, n_dof), dtype\u001b[38;5;241m=\u001b[39mweights\u001b[38;5;241m.\u001b[39mdtype, order\u001b[38;5;241m=\u001b[39m\u001b[38;5;124m\"\u001b[39m\u001b[38;5;124mF\u001b[39m\u001b[38;5;124m\"\u001b[39m)\n\u001b[1;32m    206\u001b[0m \u001b[38;5;66;03m# grad_per_sample.shape = (n_samples, n_classes)\u001b[39;00m\n\u001b[0;32m--> 207\u001b[0m grad[:, :n_features] \u001b[38;5;241m=\u001b[39m \u001b[43mgrad_per_sample\u001b[49m\u001b[38;5;241;43m.\u001b[39;49m\u001b[43mT\u001b[49m\u001b[43m \u001b[49m\u001b[38;5;241;43m@\u001b[39;49m\u001b[43m \u001b[49m\u001b[43mX\u001b[49m \u001b[38;5;241m+\u001b[39m l2_reg_strength \u001b[38;5;241m*\u001b[39m weights\n\u001b[1;32m    208\u001b[0m \u001b[38;5;28;01mif\u001b[39;00m \u001b[38;5;28mself\u001b[39m\u001b[38;5;241m.\u001b[39mfit_intercept:\n\u001b[1;32m    209\u001b[0m     grad[:, \u001b[38;5;241m-\u001b[39m\u001b[38;5;241m1\u001b[39m] \u001b[38;5;241m=\u001b[39m grad_per_sample\u001b[38;5;241m.\u001b[39msum(axis\u001b[38;5;241m=\u001b[39m\u001b[38;5;241m0\u001b[39m)\n",
      "\u001b[0;31mKeyboardInterrupt\u001b[0m: "
     ]
    }
   ],
   "source": [
    "## Testing on all Models using 1-gram \n",
    "\n",
    "# Initialize Model Object\n",
    "gnb = GaussianNB()\n",
    "mnb = MultinomialNB()\n",
    "logit = LogisticRegression(random_state=seed, max_iter = 4000)\n",
    "randomforest = RandomForestClassifier(n_estimators=100, max_depth=5, random_state=0)\n",
    "linearsvc = LinearSVC()\n",
    "\n",
    "## Do NOT want these two. They take FOREVER to train AND predict\n",
    "# knn = KNeighborsClassifier()  \n",
    "# decisiontree = DecisionTreeClassifier(random_state=seed)\n",
    "\n",
    "# to concat all models\n",
    "results_cv_straitified_1gram = pd.concat([metric_cv_stratified(mnb, X_train_val_tfidf1, y_train_val, 5, 'MultinomialNB1'),\n",
    "                                           metric_cv_stratified(gnb, X_train_val_tfidf1, y_train_val, 5, 'GaussianNB1'),\n",
    "                                           metric_cv_stratified(logit, X_train_val_tfidf1, y_train_val, 5, 'LogisticRegression1'),\n",
    "                                           metric_cv_stratified(randomforest, X_train_val_tfidf1, y_train_val, 5, 'RandomForest1'),\n",
    "                                           metric_cv_stratified(linearsvc, X_train_val_tfidf1, y_train_val, 5, 'LinearSVC1')\n",
    "                                          ], axis=0).reset_index()"
   ]
  },
  {
   "cell_type": "markdown",
   "id": "6505b269",
   "metadata": {},
   "source": [
    "# Section 4: Final Test - 80% Train/Test split"
   ]
  },
  {
   "cell_type": "markdown",
   "id": "f8a093d8",
   "metadata": {},
   "source": [
    "## Section 4.1: Splitting to 80% Train and 20% unseen data"
   ]
  },
  {
   "cell_type": "code",
   "execution_count": 46,
   "id": "34dd7cad",
   "metadata": {},
   "outputs": [
    {
     "name": "stdout",
     "output_type": "stream",
     "text": [
      "X shape: (54203,) y shape: (54203,)\n",
      "X_train (43362,)\n",
      "y_train (43362,)\n",
      "X_test (10841,)\n",
      "y_test (10841,)\n"
     ]
    }
   ],
   "source": [
    "# Split the data into X and y data sets\n",
    "X, y = df_product_and_complaint_reduced.CONSUMER_COMPLAINT, df_product_and_complaint_reduced.PRODUCT\n",
    "print('X shape:', X.shape, 'y shape:', y.shape)\n",
    "\n",
    "from sklearn.model_selection import train_test_split\n",
    "\n",
    "X_train_val, X_test, y_train_val, y_test = train_test_split(X, y, \n",
    "                                                            test_size=0.2,   # 80% train/cv, 20% test\n",
    "                                                            stratify=y,\n",
    "                                                            random_state=seed)\n",
    "print('X_train', X_train_val.shape)\n",
    "print('y_train', y_train_val.shape)\n",
    "print('X_test', X_test.shape)\n",
    "print('y_test', y_test.shape)"
   ]
  },
  {
   "cell_type": "code",
   "execution_count": 47,
   "id": "74eb7b8b",
   "metadata": {},
   "outputs": [],
   "source": [
    "# tfidf1 = 1-gram only. \n",
    "tfidf1 = TfidfVectorizer(sublinear_tf=True, # set to true to scale the term frequency in logarithmic scale.\n",
    "                        min_df=5,\n",
    "                        stop_words='english')\n",
    "X_train_val_tfidf1 = tfidf1.fit_transform(X_train_val).toarray()\n",
    "X_test_tfidf1 = tfidf1.transform(X_test)"
   ]
  },
  {
   "cell_type": "code",
   "execution_count": 49,
   "id": "3a00f485",
   "metadata": {},
   "outputs": [],
   "source": [
    "# Initializing the chosen logreg model\n",
    "logit = LogisticRegression(max_iter=4000)\n",
    "\n",
    "# Fitting the model\n",
    "logit_finalized = logit.fit(X_train_val_tfidf1, y_train_val)\n",
    "\n",
    "# Obtaining prediction\n",
    "y_pred = logit_finalized.predict(X_test_tfidf1)"
   ]
  },
  {
   "cell_type": "code",
   "execution_count": 50,
   "id": "4d6bcbb7",
   "metadata": {},
   "outputs": [],
   "source": [
    "# Pickle trained Model for use in Flask App\n",
    "with open('logit_finalized.pickle', 'wb') as to_write:\n",
    "    pickle.dump(logit_finalized, to_write)"
   ]
  },
  {
   "cell_type": "code",
   "execution_count": 51,
   "id": "34bdae79",
   "metadata": {},
   "outputs": [],
   "source": [
    "# Now we have a pickled trained model, we can use this for our flask app!\n",
    "with open('logit_finalized.pickle', 'rb') as to_read:\n",
    "    logit_finalized = pickle.load(to_read)"
   ]
  },
  {
   "cell_type": "code",
   "execution_count": 52,
   "id": "01475aa6",
   "metadata": {},
   "outputs": [],
   "source": [
    "# Create a function to calculate the error metrics, since we'll be doing this several times\n",
    "from sklearn.metrics import confusion_matrix\n",
    "import matplotlib.pyplot as plt\n",
    "import seaborn as sns\n",
    "%matplotlib inline\n",
    "\n",
    "def conf_matrix(actual, predicted):\n",
    "    \n",
    "    # Creates a dataframe of the PRODUCT to their respective PRODUCT_ID\n",
    "    category_id_df = df_product_and_complaint_reduced[['PRODUCT', 'PRODUCT_ID']].drop_duplicates()\n",
    "\n",
    "    # Dictionaries for future use. Creating our cheatsheets for what each encoded label represents.\n",
    "    category_to_id = dict(category_id_df.values) # Creates a PRODUCT: PRODUCT_ID key-value pair\n",
    "    id_to_category = dict(category_id_df[['PRODUCT_ID', 'PRODUCT']].values)  # Creates a PRODUCT_ID: PRODUCT key-value pair\n",
    "\n",
    "    conf_mat = confusion_matrix(y_test, y_pred)\n",
    "    fig, ax = plt.subplots(figsize=(8,8))\n",
    "    g= sns.heatmap(conf_mat, \n",
    "                   annot=True, annot_kws={\"size\":10},\n",
    "                   cmap=plt.cm.Reds, square=True,\n",
    "                   fmt='d',\n",
    "                   xticklabels=category_id_df.PRODUCT.values, \n",
    "                   yticklabels=category_id_df.PRODUCT.values)\n",
    "    \n",
    "#     # Changing the size of the xticks and ytick labels\n",
    "#     ax.set_yticklabels(g.get_yticklabels(), rotation=90, size=10);\n",
    "#     ax.set_xticklabels(g.get_xticklabels(), size=10);\n",
    "    \n",
    "    # Changing axis orientation & setting titles\n",
    "    ax.set_xlabel('Prediction', size=15)\n",
    "    ax.set_ylabel('Actual', rotation=0, labelpad=40,size=15)\n",
    "\n",
    "#     plt.title(\"CONFUSION MATRIX - {}\\n\".format(name), size=16);\n",
    "    \n",
    "    bottom, top = ax.get_ylim()\n",
    "    ax.set_ylim(bottom + 0.5, top - 0.5)"
   ]
  },
  {
   "cell_type": "code",
   "execution_count": 53,
   "id": "4d4bf05c",
   "metadata": {},
   "outputs": [
    {
     "name": "stderr",
     "output_type": "stream",
     "text": [
      "/var/folders/rv/ky3c0tn96k9dns7prp47l12r0000gn/T/ipykernel_13517/4005488244.py:19: MatplotlibDeprecationWarning: savefig() got unexpected keyword argument \"transparency\" which is no longer supported as of 3.3 and will become an error in 3.6\n",
      "  plt.savefig('freq_of_removed_classes_and_reduced_observations.png', transparency=True)\n"
     ]
    },
    {
     "data": {
      "image/png": "[encoded data removed]",
      "text/plain": [
       "<Figure size 720x576 with 1 Axes>"
      ]
     },
     "metadata": {
      "needs_background": "light"
     },
     "output_type": "display_data"
    }
   ],
   "source": [
    "fig, ax = plt.subplots(figsize=(10,8))\n",
    "\n",
    "ax = sns.countplot(y='PRODUCT', \n",
    "                   data=df_product_and_complaint_reduced, \n",
    "                   order=df_product_and_complaint_reduced['PRODUCT'].value_counts().index,\n",
    "                   palette='rocket'        # change the color of this graph LATER\n",
    "                  )\n",
    "\n",
    "ax.set_title('NUMBER OF COMPLAINTS IN EACH CATEGORY',size=15)\n",
    "\n",
    "# Setting labels\n",
    "# Dealing with y-labels\n",
    "ax.set_ylabel('COMPLAINT', rotation=0, labelpad=40, size=14)\n",
    "              \n",
    "# Dealing with x-labels\n",
    "ax.set_xlabel('NUMBER OF COMPLAINTS', size=14)\n",
    "\n",
    "sns.despine()\n",
    "plt.savefig('freq_of_removed_classes_and_reduced_observations.png', transparency=True)"
   ]
  },
  {
   "cell_type": "code",
   "execution_count": 57,
   "id": "fed0c426",
   "metadata": {},
   "outputs": [
    {
     "data": {
      "image/png": "[encoded data removed]",
      "text/plain": [
       "<Figure size 576x576 with 2 Axes>"
      ]
     },
     "metadata": {
      "needs_background": "light"
     },
     "output_type": "display_data"
    }
   ],
   "source": [
    "conf_matrix(y_test, y_pred)\n",
    "plt.savefig('confusion_matrix', transparent=True)"
   ]
  },
  {
   "cell_type": "markdown",
   "id": "499018aa",
   "metadata": {},
   "source": [
    "# Section 5: Testing out Predictions on Random Complaints"
   ]
  },
  {
   "cell_type": "code",
   "execution_count": 58,
   "id": "eccf64ac",
   "metadata": {},
   "outputs": [],
   "source": [
    "import pandas as pd\n",
    "import numpy as np\n",
    "import pickle\n",
    "from sklearn.feature_extraction.text import TfidfVectorizer\n",
    "from sklearn.linear_model import LogisticRegression"
   ]
  },
  {
   "cell_type": "code",
   "execution_count": 60,
   "id": "3a5ca67b",
   "metadata": {},
   "outputs": [],
   "source": [
    "  with open('logit_finalized.pickle', 'rb') as to_read:  # loading our model\n",
    "    logit_finalized = pickle.load(to_read)"
   ]
  },
  {
   "cell_type": "code",
   "execution_count": 65,
   "id": "fb2a1874",
   "metadata": {},
   "outputs": [
    {
     "ename": "ValueError",
     "evalue": "Expected 2D array, got 1D array instead:\narray=['\\nomg where is my money\\naosidnoiandnaiosdnasd This is bullshit!! where is my money!!!\\nI TRANSFERRED IT BUT IT JUST DISAPPEARED INTO THIN AIR.\\nWHAT KIND OF A BANK ARE YOU?\\nARE YOU A BANK OR A THIEF?'].\nReshape your data either using array.reshape(-1, 1) if your data has a single feature or array.reshape(1, -1) if it contains a single sample.",
     "output_type": "error",
     "traceback": [
      "\u001b[0;31m---------------------------------------------------------------------------\u001b[0m",
      "\u001b[0;31mValueError\u001b[0m                                Traceback (most recent call last)",
      "Input \u001b[0;32mIn [65]\u001b[0m, in \u001b[0;36m<cell line: 9>\u001b[0;34m()\u001b[0m\n\u001b[1;32m      1\u001b[0m complaint \u001b[38;5;241m=\u001b[39m \u001b[38;5;124m\"\"\"\u001b[39m\n\u001b[1;32m      2\u001b[0m \u001b[38;5;124momg where is my money\u001b[39m\n\u001b[1;32m      3\u001b[0m \u001b[38;5;124maosidnoiandnaiosdnasd This is bullshit!! where is my money!!!\u001b[39m\n\u001b[1;32m      4\u001b[0m \u001b[38;5;124mI TRANSFERRED IT BUT IT JUST DISAPPEARED INTO THIN AIR.\u001b[39m\n\u001b[1;32m      5\u001b[0m \u001b[38;5;124mWHAT KIND OF A BANK ARE YOU?\u001b[39m\n\u001b[1;32m      6\u001b[0m \u001b[38;5;124mARE YOU A BANK OR A THIEF?\u001b[39m\u001b[38;5;124m\"\"\"\u001b[39m\n\u001b[1;32m      8\u001b[0m \u001b[38;5;66;03m# Fitting vectorized complaint into model\u001b[39;00m\n\u001b[0;32m----> 9\u001b[0m y_customized_prediction \u001b[38;5;241m=\u001b[39m \u001b[43mlogit_finalized\u001b[49m\u001b[38;5;241;43m.\u001b[39;49m\u001b[43mpredict\u001b[49m\u001b[43m(\u001b[49m\u001b[43m[\u001b[49m\u001b[43mcomplaint\u001b[49m\u001b[43m]\u001b[49m\u001b[43m)\u001b[49m\n\u001b[1;32m     10\u001b[0m y_customized_prediction[\u001b[38;5;241m0\u001b[39m]\n",
      "File \u001b[0;32m~/miniforge3/lib/python3.9/site-packages/sklearn/linear_model/_base.py:447\u001b[0m, in \u001b[0;36mLinearClassifierMixin.predict\u001b[0;34m(self, X)\u001b[0m\n\u001b[1;32m    433\u001b[0m \u001b[38;5;28;01mdef\u001b[39;00m \u001b[38;5;21mpredict\u001b[39m(\u001b[38;5;28mself\u001b[39m, X):\n\u001b[1;32m    434\u001b[0m     \u001b[38;5;124;03m\"\"\"\u001b[39;00m\n\u001b[1;32m    435\u001b[0m \u001b[38;5;124;03m    Predict class labels for samples in X.\u001b[39;00m\n\u001b[1;32m    436\u001b[0m \n\u001b[0;32m   (...)\u001b[0m\n\u001b[1;32m    445\u001b[0m \u001b[38;5;124;03m        Vector containing the class labels for each sample.\u001b[39;00m\n\u001b[1;32m    446\u001b[0m \u001b[38;5;124;03m    \"\"\"\u001b[39;00m\n\u001b[0;32m--> 447\u001b[0m     scores \u001b[38;5;241m=\u001b[39m \u001b[38;5;28;43mself\u001b[39;49m\u001b[38;5;241;43m.\u001b[39;49m\u001b[43mdecision_function\u001b[49m\u001b[43m(\u001b[49m\u001b[43mX\u001b[49m\u001b[43m)\u001b[49m\n\u001b[1;32m    448\u001b[0m     \u001b[38;5;28;01mif\u001b[39;00m \u001b[38;5;28mlen\u001b[39m(scores\u001b[38;5;241m.\u001b[39mshape) \u001b[38;5;241m==\u001b[39m \u001b[38;5;241m1\u001b[39m:\n\u001b[1;32m    449\u001b[0m         indices \u001b[38;5;241m=\u001b[39m (scores \u001b[38;5;241m>\u001b[39m \u001b[38;5;241m0\u001b[39m)\u001b[38;5;241m.\u001b[39mastype(\u001b[38;5;28mint\u001b[39m)\n",
      "File \u001b[0;32m~/miniforge3/lib/python3.9/site-packages/sklearn/linear_model/_base.py:429\u001b[0m, in \u001b[0;36mLinearClassifierMixin.decision_function\u001b[0;34m(self, X)\u001b[0m\n\u001b[1;32m    409\u001b[0m \u001b[38;5;124;03m\"\"\"\u001b[39;00m\n\u001b[1;32m    410\u001b[0m \u001b[38;5;124;03mPredict confidence scores for samples.\u001b[39;00m\n\u001b[1;32m    411\u001b[0m \n\u001b[0;32m   (...)\u001b[0m\n\u001b[1;32m    425\u001b[0m \u001b[38;5;124;03m    this class would be predicted.\u001b[39;00m\n\u001b[1;32m    426\u001b[0m \u001b[38;5;124;03m\"\"\"\u001b[39;00m\n\u001b[1;32m    427\u001b[0m check_is_fitted(\u001b[38;5;28mself\u001b[39m)\n\u001b[0;32m--> 429\u001b[0m X \u001b[38;5;241m=\u001b[39m \u001b[38;5;28;43mself\u001b[39;49m\u001b[38;5;241;43m.\u001b[39;49m\u001b[43m_validate_data\u001b[49m\u001b[43m(\u001b[49m\u001b[43mX\u001b[49m\u001b[43m,\u001b[49m\u001b[43m \u001b[49m\u001b[43maccept_sparse\u001b[49m\u001b[38;5;241;43m=\u001b[39;49m\u001b[38;5;124;43m\"\u001b[39;49m\u001b[38;5;124;43mcsr\u001b[39;49m\u001b[38;5;124;43m\"\u001b[39;49m\u001b[43m,\u001b[49m\u001b[43m \u001b[49m\u001b[43mreset\u001b[49m\u001b[38;5;241;43m=\u001b[39;49m\u001b[38;5;28;43;01mFalse\u001b[39;49;00m\u001b[43m)\u001b[49m\n\u001b[1;32m    430\u001b[0m scores \u001b[38;5;241m=\u001b[39m safe_sparse_dot(X, \u001b[38;5;28mself\u001b[39m\u001b[38;5;241m.\u001b[39mcoef_\u001b[38;5;241m.\u001b[39mT, dense_output\u001b[38;5;241m=\u001b[39m\u001b[38;5;28;01mTrue\u001b[39;00m) \u001b[38;5;241m+\u001b[39m \u001b[38;5;28mself\u001b[39m\u001b[38;5;241m.\u001b[39mintercept_\n\u001b[1;32m    431\u001b[0m \u001b[38;5;28;01mreturn\u001b[39;00m scores\u001b[38;5;241m.\u001b[39mravel() \u001b[38;5;28;01mif\u001b[39;00m scores\u001b[38;5;241m.\u001b[39mshape[\u001b[38;5;241m1\u001b[39m] \u001b[38;5;241m==\u001b[39m \u001b[38;5;241m1\u001b[39m \u001b[38;5;28;01melse\u001b[39;00m scores\n",
      "File \u001b[0;32m~/miniforge3/lib/python3.9/site-packages/sklearn/base.py:577\u001b[0m, in \u001b[0;36mBaseEstimator._validate_data\u001b[0;34m(self, X, y, reset, validate_separately, **check_params)\u001b[0m\n\u001b[1;32m    575\u001b[0m     \u001b[38;5;28;01mraise\u001b[39;00m \u001b[38;5;167;01mValueError\u001b[39;00m(\u001b[38;5;124m\"\u001b[39m\u001b[38;5;124mValidation should be done on X, y or both.\u001b[39m\u001b[38;5;124m\"\u001b[39m)\n\u001b[1;32m    576\u001b[0m \u001b[38;5;28;01melif\u001b[39;00m \u001b[38;5;129;01mnot\u001b[39;00m no_val_X \u001b[38;5;129;01mand\u001b[39;00m no_val_y:\n\u001b[0;32m--> 577\u001b[0m     X \u001b[38;5;241m=\u001b[39m \u001b[43mcheck_array\u001b[49m\u001b[43m(\u001b[49m\u001b[43mX\u001b[49m\u001b[43m,\u001b[49m\u001b[43m \u001b[49m\u001b[43minput_name\u001b[49m\u001b[38;5;241;43m=\u001b[39;49m\u001b[38;5;124;43m\"\u001b[39;49m\u001b[38;5;124;43mX\u001b[39;49m\u001b[38;5;124;43m\"\u001b[39;49m\u001b[43m,\u001b[49m\u001b[43m \u001b[49m\u001b[38;5;241;43m*\u001b[39;49m\u001b[38;5;241;43m*\u001b[39;49m\u001b[43mcheck_params\u001b[49m\u001b[43m)\u001b[49m\n\u001b[1;32m    578\u001b[0m     out \u001b[38;5;241m=\u001b[39m X\n\u001b[1;32m    579\u001b[0m \u001b[38;5;28;01melif\u001b[39;00m no_val_X \u001b[38;5;129;01mand\u001b[39;00m \u001b[38;5;129;01mnot\u001b[39;00m no_val_y:\n",
      "File \u001b[0;32m~/miniforge3/lib/python3.9/site-packages/sklearn/utils/validation.py:879\u001b[0m, in \u001b[0;36mcheck_array\u001b[0;34m(array, accept_sparse, accept_large_sparse, dtype, order, copy, force_all_finite, ensure_2d, allow_nd, ensure_min_samples, ensure_min_features, estimator, input_name)\u001b[0m\n\u001b[1;32m    877\u001b[0m     \u001b[38;5;66;03m# If input is 1D raise error\u001b[39;00m\n\u001b[1;32m    878\u001b[0m     \u001b[38;5;28;01mif\u001b[39;00m array\u001b[38;5;241m.\u001b[39mndim \u001b[38;5;241m==\u001b[39m \u001b[38;5;241m1\u001b[39m:\n\u001b[0;32m--> 879\u001b[0m         \u001b[38;5;28;01mraise\u001b[39;00m \u001b[38;5;167;01mValueError\u001b[39;00m(\n\u001b[1;32m    880\u001b[0m             \u001b[38;5;124m\"\u001b[39m\u001b[38;5;124mExpected 2D array, got 1D array instead:\u001b[39m\u001b[38;5;130;01m\\n\u001b[39;00m\u001b[38;5;124marray=\u001b[39m\u001b[38;5;132;01m{}\u001b[39;00m\u001b[38;5;124m.\u001b[39m\u001b[38;5;130;01m\\n\u001b[39;00m\u001b[38;5;124m\"\u001b[39m\n\u001b[1;32m    881\u001b[0m             \u001b[38;5;124m\"\u001b[39m\u001b[38;5;124mReshape your data either using array.reshape(-1, 1) if \u001b[39m\u001b[38;5;124m\"\u001b[39m\n\u001b[1;32m    882\u001b[0m             \u001b[38;5;124m\"\u001b[39m\u001b[38;5;124myour data has a single feature or array.reshape(1, -1) \u001b[39m\u001b[38;5;124m\"\u001b[39m\n\u001b[1;32m    883\u001b[0m             \u001b[38;5;124m\"\u001b[39m\u001b[38;5;124mif it contains a single sample.\u001b[39m\u001b[38;5;124m\"\u001b[39m\u001b[38;5;241m.\u001b[39mformat(array)\n\u001b[1;32m    884\u001b[0m         )\n\u001b[1;32m    886\u001b[0m \u001b[38;5;28;01mif\u001b[39;00m dtype_numeric \u001b[38;5;129;01mand\u001b[39;00m array\u001b[38;5;241m.\u001b[39mdtype\u001b[38;5;241m.\u001b[39mkind \u001b[38;5;129;01min\u001b[39;00m \u001b[38;5;124m\"\u001b[39m\u001b[38;5;124mUSV\u001b[39m\u001b[38;5;124m\"\u001b[39m:\n\u001b[1;32m    887\u001b[0m     \u001b[38;5;28;01mraise\u001b[39;00m \u001b[38;5;167;01mValueError\u001b[39;00m(\n\u001b[1;32m    888\u001b[0m         \u001b[38;5;124m\"\u001b[39m\u001b[38;5;124mdtype=\u001b[39m\u001b[38;5;124m'\u001b[39m\u001b[38;5;124mnumeric\u001b[39m\u001b[38;5;124m'\u001b[39m\u001b[38;5;124m is not compatible with arrays of bytes/strings.\u001b[39m\u001b[38;5;124m\"\u001b[39m\n\u001b[1;32m    889\u001b[0m         \u001b[38;5;124m\"\u001b[39m\u001b[38;5;124mConvert your data to numeric values explicitly instead.\u001b[39m\u001b[38;5;124m\"\u001b[39m\n\u001b[1;32m    890\u001b[0m     )\n",
      "\u001b[0;31mValueError\u001b[0m: Expected 2D array, got 1D array instead:\narray=['\\nomg where is my money\\naosidnoiandnaiosdnasd This is bullshit!! where is my money!!!\\nI TRANSFERRED IT BUT IT JUST DISAPPEARED INTO THIN AIR.\\nWHAT KIND OF A BANK ARE YOU?\\nARE YOU A BANK OR A THIEF?'].\nReshape your data either using array.reshape(-1, 1) if your data has a single feature or array.reshape(1, -1) if it contains a single sample."
     ]
    }
   ],
   "source": [
    "complaint = \"\"\"\n",
    "omg where is my money\n",
    "aosidnoiandnaiosdnasd This is bullshit!! where is my money!!!\n",
    "I TRANSFERRED IT BUT IT JUST DISAPPEARED INTO THIN AIR.\n",
    "WHAT KIND OF A BANK ARE YOU?\n",
    "ARE YOU A BANK OR A THIEF?\"\"\"\n",
    "\n",
    "# Fitting vectorized complaint into model\n",
    "y_customized_prediction = logit_finalized.predict([complaint])\n",
    "y_customized_prediction[0]"
   ]
  },
  {
   "cell_type": "code",
   "execution_count": null,
   "id": "8d32985d",
   "metadata": {},
   "outputs": [],
   "source": []
  }
 ],
 "metadata": {
  "kernelspec": {
   "display_name": "Python 3 (ipykernel)",
   "language": "python",
   "name": "python3"
  },
  "language_info": {
   "codemirror_mode": {
    "name": "ipython",
    "version": 3
   },
   "file_extension": ".py",
   "mimetype": "text/x-python",
   "name": "python",
   "nbconvert_exporter": "python",
   "pygments_lexer": "ipython3",
   "version": "3.9.7"
  }
 },
 "nbformat": 4,
 "nbformat_minor": 5
}
